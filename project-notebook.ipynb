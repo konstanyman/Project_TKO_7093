{
 "cells": [
  {
   "cell_type": "markdown",
   "metadata": {},
   "source": [
    "<h1>Data analysis report for bike company</h1>\n",
    "<i>Konsta Nyman</i>"
   ]
  },
  {
   "cell_type": "code",
   "execution_count": 190,
   "metadata": {},
   "outputs": [],
   "source": [
    "# imports\n",
    "\n",
    "import pandas as P\n",
    "import scipy.stats as S\n",
    "import numpy as N"
   ]
  },
  {
   "cell_type": "markdown",
   "metadata": {},
   "source": [
    "<h2>Data preparation</h2>"
   ]
  },
  {
   "cell_type": "code",
   "execution_count": 191,
   "metadata": {},
   "outputs": [
    {
     "data": {
      "text/html": [
       "<div>\n",
       "<style scoped>\n",
       "    .dataframe tbody tr th:only-of-type {\n",
       "        vertical-align: middle;\n",
       "    }\n",
       "\n",
       "    .dataframe tbody tr th {\n",
       "        vertical-align: top;\n",
       "    }\n",
       "\n",
       "    .dataframe thead th {\n",
       "        text-align: right;\n",
       "    }\n",
       "</style>\n",
       "<table border=\"1\" class=\"dataframe\">\n",
       "  <thead>\n",
       "    <tr style=\"text-align: right;\">\n",
       "      <th></th>\n",
       "      <th>ticket</th>\n",
       "      <th>cost</th>\n",
       "      <th>month</th>\n",
       "      <th>location_from</th>\n",
       "      <th>location_to</th>\n",
       "      <th>duration</th>\n",
       "      <th>distance</th>\n",
       "      <th>assistance</th>\n",
       "      <th>energy_used</th>\n",
       "      <th>energy_collected</th>\n",
       "    </tr>\n",
       "  </thead>\n",
       "  <tbody>\n",
       "    <tr>\n",
       "      <th>0</th>\n",
       "      <td>single</td>\n",
       "      <td>0.35</td>\n",
       "      <td>9</td>\n",
       "      <td>MICROTEKNIA</td>\n",
       "      <td>PUIJONLAAKSO</td>\n",
       "      <td>411.0</td>\n",
       "      <td>2150</td>\n",
       "      <td>1</td>\n",
       "      <td>19.0</td>\n",
       "      <td>2.7</td>\n",
       "    </tr>\n",
       "    <tr>\n",
       "      <th>1</th>\n",
       "      <td>single</td>\n",
       "      <td>1.20</td>\n",
       "      <td>5</td>\n",
       "      <td>SATAMA</td>\n",
       "      <td>KEILANKANTA</td>\n",
       "      <td>1411.0</td>\n",
       "      <td>7130</td>\n",
       "      <td>1</td>\n",
       "      <td>53.8</td>\n",
       "      <td>15.3</td>\n",
       "    </tr>\n",
       "    <tr>\n",
       "      <th>2</th>\n",
       "      <td>savonia</td>\n",
       "      <td>0.00</td>\n",
       "      <td>9</td>\n",
       "      <td>TASAVALLANKATU</td>\n",
       "      <td>NEULAMÄKI</td>\n",
       "      <td>1308.0</td>\n",
       "      <td>5420</td>\n",
       "      <td>1</td>\n",
       "      <td>43.0</td>\n",
       "      <td>9.9</td>\n",
       "    </tr>\n",
       "    <tr>\n",
       "      <th>3</th>\n",
       "      <td>savonia</td>\n",
       "      <td>0.00</td>\n",
       "      <td>10</td>\n",
       "      <td>TORI</td>\n",
       "      <td>KAUPPAKATU</td>\n",
       "      <td>1036.0</td>\n",
       "      <td>1180</td>\n",
       "      <td>1</td>\n",
       "      <td>6.5</td>\n",
       "      <td>2.1</td>\n",
       "    </tr>\n",
       "    <tr>\n",
       "      <th>4</th>\n",
       "      <td>single</td>\n",
       "      <td>0.30</td>\n",
       "      <td>9</td>\n",
       "      <td>TORI</td>\n",
       "      <td>TORI</td>\n",
       "      <td>319.0</td>\n",
       "      <td>1120</td>\n",
       "      <td>1</td>\n",
       "      <td>13.7</td>\n",
       "      <td>1.2</td>\n",
       "    </tr>\n",
       "    <tr>\n",
       "      <th>...</th>\n",
       "      <td>...</td>\n",
       "      <td>...</td>\n",
       "      <td>...</td>\n",
       "      <td>...</td>\n",
       "      <td>...</td>\n",
       "      <td>...</td>\n",
       "      <td>...</td>\n",
       "      <td>...</td>\n",
       "      <td>...</td>\n",
       "      <td>...</td>\n",
       "    </tr>\n",
       "    <tr>\n",
       "      <th>1769</th>\n",
       "      <td>savonia</td>\n",
       "      <td>0.00</td>\n",
       "      <td>10</td>\n",
       "      <td>KAUPPAKATU</td>\n",
       "      <td>TORI</td>\n",
       "      <td>836.0</td>\n",
       "      <td>960</td>\n",
       "      <td>1</td>\n",
       "      <td>8.0</td>\n",
       "      <td>2.7</td>\n",
       "    </tr>\n",
       "    <tr>\n",
       "      <th>1770</th>\n",
       "      <td>single</td>\n",
       "      <td>0.20</td>\n",
       "      <td>7</td>\n",
       "      <td>TORI</td>\n",
       "      <td>SATAMA</td>\n",
       "      <td>199.0</td>\n",
       "      <td>930</td>\n",
       "      <td>1</td>\n",
       "      <td>3.7</td>\n",
       "      <td>3.6</td>\n",
       "    </tr>\n",
       "    <tr>\n",
       "      <th>1771</th>\n",
       "      <td>season</td>\n",
       "      <td>0.00</td>\n",
       "      <td>7</td>\n",
       "      <td>TORI</td>\n",
       "      <td>TORI</td>\n",
       "      <td>61.0</td>\n",
       "      <td>0</td>\n",
       "      <td>1</td>\n",
       "      <td>0.0</td>\n",
       "      <td>0.0</td>\n",
       "    </tr>\n",
       "    <tr>\n",
       "      <th>1772</th>\n",
       "      <td>savonia</td>\n",
       "      <td>0.00</td>\n",
       "      <td>9</td>\n",
       "      <td>MICROTEKNIA</td>\n",
       "      <td>PUIJONLAAKSO</td>\n",
       "      <td>610.0</td>\n",
       "      <td>2460</td>\n",
       "      <td>1</td>\n",
       "      <td>36.5</td>\n",
       "      <td>6.9</td>\n",
       "    </tr>\n",
       "    <tr>\n",
       "      <th>1773</th>\n",
       "      <td>season</td>\n",
       "      <td>0.00</td>\n",
       "      <td>8</td>\n",
       "      <td>PUIJONLAAKSO</td>\n",
       "      <td>KAUPPAKATU</td>\n",
       "      <td>478.0</td>\n",
       "      <td>2250</td>\n",
       "      <td>1</td>\n",
       "      <td>8.1</td>\n",
       "      <td>13.8</td>\n",
       "    </tr>\n",
       "  </tbody>\n",
       "</table>\n",
       "<p>1774 rows × 10 columns</p>\n",
       "</div>"
      ],
      "text/plain": [
       "       ticket  cost  month   location_from   location_to  duration  distance  \\\n",
       "0      single  0.35      9     MICROTEKNIA  PUIJONLAAKSO     411.0      2150   \n",
       "1      single  1.20      5          SATAMA   KEILANKANTA    1411.0      7130   \n",
       "2     savonia  0.00      9  TASAVALLANKATU     NEULAMÄKI    1308.0      5420   \n",
       "3     savonia  0.00     10            TORI    KAUPPAKATU    1036.0      1180   \n",
       "4      single  0.30      9            TORI          TORI     319.0      1120   \n",
       "...       ...   ...    ...             ...           ...       ...       ...   \n",
       "1769  savonia  0.00     10      KAUPPAKATU          TORI     836.0       960   \n",
       "1770   single  0.20      7            TORI        SATAMA     199.0       930   \n",
       "1771   season  0.00      7            TORI          TORI      61.0         0   \n",
       "1772  savonia  0.00      9     MICROTEKNIA  PUIJONLAAKSO     610.0      2460   \n",
       "1773   season  0.00      8    PUIJONLAAKSO    KAUPPAKATU     478.0      2250   \n",
       "\n",
       "      assistance  energy_used  energy_collected  \n",
       "0              1         19.0               2.7  \n",
       "1              1         53.8              15.3  \n",
       "2              1         43.0               9.9  \n",
       "3              1          6.5               2.1  \n",
       "4              1         13.7               1.2  \n",
       "...          ...          ...               ...  \n",
       "1769           1          8.0               2.7  \n",
       "1770           1          3.7               3.6  \n",
       "1771           1          0.0               0.0  \n",
       "1772           1         36.5               6.9  \n",
       "1773           1          8.1              13.8  \n",
       "\n",
       "[1774 rows x 10 columns]"
      ]
     },
     "execution_count": 191,
     "metadata": {},
     "output_type": "execute_result"
    }
   ],
   "source": [
    "# loading data file\n",
    "\n",
    "bikes = P.read_csv('./project_data/bikes.data',\n",
    "                   # field separator character\n",
    "                   sep=\",\",\n",
    "                   # missing value characters\n",
    "                   na_values=[\"?\"],\n",
    "                   # no row names\n",
    "                   index_col=False,\n",
    "                   # first row as column names\n",
    "                   header=0,\n",
    "                   # quote character\n",
    "                   quotechar=\"'\")\n",
    "bikes"
   ]
  },
  {
   "cell_type": "markdown",
   "metadata": {},
   "source": [
    "<p>Data file is now loaded and looks clean at first glance. The variables match the documentation provided.</p>"
   ]
  },
  {
   "cell_type": "markdown",
   "metadata": {},
   "source": [
    "<h4>Checking the variables</h4>"
   ]
  },
  {
   "cell_type": "code",
   "execution_count": 192,
   "metadata": {},
   "outputs": [
    {
     "data": {
      "text/plain": [
       "ticket               object\n",
       "cost                float64\n",
       "month                 int64\n",
       "location_from        object\n",
       "location_to          object\n",
       "duration            float64\n",
       "distance              int64\n",
       "assistance            int64\n",
       "energy_used         float64\n",
       "energy_collected    float64\n",
       "dtype: object"
      ]
     },
     "execution_count": 192,
     "metadata": {},
     "output_type": "execute_result"
    }
   ],
   "source": [
    "# checking data types\n",
    "\n",
    "bikes.dtypes"
   ]
  },
  {
   "cell_type": "code",
   "execution_count": 193,
   "metadata": {},
   "outputs": [
    {
     "data": {
      "text/html": [
       "<div>\n",
       "<style scoped>\n",
       "    .dataframe tbody tr th:only-of-type {\n",
       "        vertical-align: middle;\n",
       "    }\n",
       "\n",
       "    .dataframe tbody tr th {\n",
       "        vertical-align: top;\n",
       "    }\n",
       "\n",
       "    .dataframe thead th {\n",
       "        text-align: right;\n",
       "    }\n",
       "</style>\n",
       "<table border=\"1\" class=\"dataframe\">\n",
       "  <thead>\n",
       "    <tr style=\"text-align: right;\">\n",
       "      <th></th>\n",
       "      <th>cost</th>\n",
       "      <th>month</th>\n",
       "      <th>duration</th>\n",
       "      <th>distance</th>\n",
       "      <th>assistance</th>\n",
       "      <th>energy_used</th>\n",
       "      <th>energy_collected</th>\n",
       "    </tr>\n",
       "  </thead>\n",
       "  <tbody>\n",
       "    <tr>\n",
       "      <th>count</th>\n",
       "      <td>1774.000000</td>\n",
       "      <td>1774.000000</td>\n",
       "      <td>1774.000000</td>\n",
       "      <td>1774.000000</td>\n",
       "      <td>1774.000000</td>\n",
       "      <td>1774.000000</td>\n",
       "      <td>1774.000000</td>\n",
       "    </tr>\n",
       "    <tr>\n",
       "      <th>mean</th>\n",
       "      <td>0.491234</td>\n",
       "      <td>7.233371</td>\n",
       "      <td>671.323563</td>\n",
       "      <td>2460.067644</td>\n",
       "      <td>0.916009</td>\n",
       "      <td>17.399493</td>\n",
       "      <td>5.639290</td>\n",
       "    </tr>\n",
       "    <tr>\n",
       "      <th>std</th>\n",
       "      <td>4.127344</td>\n",
       "      <td>1.720351</td>\n",
       "      <td>1141.708627</td>\n",
       "      <td>2352.529305</td>\n",
       "      <td>0.277452</td>\n",
       "      <td>17.194463</td>\n",
       "      <td>6.379593</td>\n",
       "    </tr>\n",
       "    <tr>\n",
       "      <th>min</th>\n",
       "      <td>0.000000</td>\n",
       "      <td>4.000000</td>\n",
       "      <td>2.000000</td>\n",
       "      <td>-3380.000000</td>\n",
       "      <td>0.000000</td>\n",
       "      <td>0.000000</td>\n",
       "      <td>0.000000</td>\n",
       "    </tr>\n",
       "    <tr>\n",
       "      <th>25%</th>\n",
       "      <td>0.000000</td>\n",
       "      <td>6.000000</td>\n",
       "      <td>245.250000</td>\n",
       "      <td>910.000000</td>\n",
       "      <td>1.000000</td>\n",
       "      <td>1.425000</td>\n",
       "      <td>0.600000</td>\n",
       "    </tr>\n",
       "    <tr>\n",
       "      <th>50%</th>\n",
       "      <td>0.050000</td>\n",
       "      <td>7.000000</td>\n",
       "      <td>546.500000</td>\n",
       "      <td>2030.000000</td>\n",
       "      <td>1.000000</td>\n",
       "      <td>14.350000</td>\n",
       "      <td>3.900000</td>\n",
       "    </tr>\n",
       "    <tr>\n",
       "      <th>75%</th>\n",
       "      <td>0.550000</td>\n",
       "      <td>9.000000</td>\n",
       "      <td>877.750000</td>\n",
       "      <td>3605.000000</td>\n",
       "      <td>1.000000</td>\n",
       "      <td>26.900000</td>\n",
       "      <td>8.325000</td>\n",
       "    </tr>\n",
       "    <tr>\n",
       "      <th>max</th>\n",
       "      <td>100.000000</td>\n",
       "      <td>10.000000</td>\n",
       "      <td>25614.000000</td>\n",
       "      <td>20770.000000</td>\n",
       "      <td>1.000000</td>\n",
       "      <td>144.900000</td>\n",
       "      <td>56.400000</td>\n",
       "    </tr>\n",
       "  </tbody>\n",
       "</table>\n",
       "</div>"
      ],
      "text/plain": [
       "              cost        month      duration      distance   assistance  \\\n",
       "count  1774.000000  1774.000000   1774.000000   1774.000000  1774.000000   \n",
       "mean      0.491234     7.233371    671.323563   2460.067644     0.916009   \n",
       "std       4.127344     1.720351   1141.708627   2352.529305     0.277452   \n",
       "min       0.000000     4.000000      2.000000  -3380.000000     0.000000   \n",
       "25%       0.000000     6.000000    245.250000    910.000000     1.000000   \n",
       "50%       0.050000     7.000000    546.500000   2030.000000     1.000000   \n",
       "75%       0.550000     9.000000    877.750000   3605.000000     1.000000   \n",
       "max     100.000000    10.000000  25614.000000  20770.000000     1.000000   \n",
       "\n",
       "       energy_used  energy_collected  \n",
       "count  1774.000000       1774.000000  \n",
       "mean     17.399493          5.639290  \n",
       "std      17.194463          6.379593  \n",
       "min       0.000000          0.000000  \n",
       "25%       1.425000          0.600000  \n",
       "50%      14.350000          3.900000  \n",
       "75%      26.900000          8.325000  \n",
       "max     144.900000         56.400000  "
      ]
     },
     "execution_count": 193,
     "metadata": {},
     "output_type": "execute_result"
    }
   ],
   "source": [
    "# overall description of dataframe\n",
    "\n",
    "bikes.describe()"
   ]
  },
  {
   "cell_type": "markdown",
   "metadata": {},
   "source": [
    "<p>From here we can see that at least column 'distance has some issues because of the negative min-value.</p>\n",
    "<p>Also, the maximum value of column cost is suspicious.</p>"
   ]
  },
  {
   "cell_type": "code",
   "execution_count": 194,
   "metadata": {},
   "outputs": [
    {
     "data": {
      "text/plain": [
       "ticket              0\n",
       "cost                0\n",
       "month               0\n",
       "location_from       0\n",
       "location_to         0\n",
       "duration            0\n",
       "distance            0\n",
       "assistance          0\n",
       "energy_used         0\n",
       "energy_collected    0\n",
       "dtype: int64"
      ]
     },
     "execution_count": 194,
     "metadata": {},
     "output_type": "execute_result"
    }
   ],
   "source": [
    "# find null values\n",
    "\n",
    "bikes.isnull().sum()"
   ]
  },
  {
   "cell_type": "markdown",
   "metadata": {},
   "source": [
    "<p>No null values</p>"
   ]
  },
  {
   "cell_type": "code",
   "execution_count": 195,
   "metadata": {},
   "outputs": [
    {
     "name": "stdout",
     "output_type": "stream",
     "text": [
      "['single' 'savonia' 'season']\n",
      "[ 4  5  6  7  8  9 10]\n",
      "['KAUPPAKATU' 'KEILANKANTA' 'KYS' 'MICROTEKNIA' 'NEULAMÄKI' 'PIRTTI'\n",
      " 'PUIJONLAAKSO' 'SATAMA' 'TASAVALLANKATU' 'TORI']\n",
      "['KAUPPAKATU' 'KEILANKANTA' 'KYS' 'MICROTEKNIA' 'NEULAMÄKI' 'PIRTTI'\n",
      " 'PUIJONLAAKSO' 'SATAMA' 'TASAVALLANKATU' 'TORI']\n",
      "[1 0]\n"
     ]
    }
   ],
   "source": [
    "# check odditites in categorical variables\n",
    "\n",
    "print(bikes['ticket'].unique())\n",
    "print(N.sort(bikes['month'].unique()))\n",
    "print(N.sort(bikes['location_from'].unique()))\n",
    "print(N.sort(bikes['location_to'].unique()))\n",
    "print(bikes['assistance'].unique())"
   ]
  },
  {
   "cell_type": "markdown",
   "metadata": {},
   "source": [
    "<p>Everything looks fine in these columns</p>"
   ]
  },
  {
   "cell_type": "code",
   "execution_count": 196,
   "metadata": {},
   "outputs": [
    {
     "data": {
      "text/plain": [
       "<Axes: ylabel='Frequency'>"
      ]
     },
     "execution_count": 196,
     "metadata": {},
     "output_type": "execute_result"
    },
    {
     "data": {
      "image/png": "[encoded data removed]",
      "text/plain": [
       "<Figure size 640x480 with 1 Axes>"
      ]
     },
     "metadata": {},
     "output_type": "display_data"
    }
   ],
   "source": [
    "# check for oddities in numeric variables\n",
    "\n",
    "# histogram of column 'cost'\n",
    "\n",
    "bikes.cost.plot.hist(bins=50)"
   ]
  },
  {
   "cell_type": "markdown",
   "metadata": {},
   "source": [
    "<p>Here we see that most instances are close to 0 but histogram range is until 100 and we remember that max-value of cost was 100 in the dataframe description. We'll look into this later.</p>"
   ]
  },
  {
   "cell_type": "code",
   "execution_count": 197,
   "metadata": {},
   "outputs": [
    {
     "data": {
      "text/plain": [
       "<Axes: title={'center': 'Duration v. distance'}, xlabel='Duration (s)', ylabel='Distance (m)'>"
      ]
     },
     "execution_count": 197,
     "metadata": {},
     "output_type": "execute_result"
    },
    {
     "data": {
      "image/png": "[encoded data removed]",
      "text/plain": [
       "<Figure size 800x800 with 1 Axes>"
      ]
     },
     "metadata": {},
     "output_type": "display_data"
    }
   ],
   "source": [
    "# lets create a scatter plot of columns 'duration' and 'distance'\n",
    "\n",
    "bikes.plot.scatter('duration', 'distance',\n",
    "                   title=\"Duration v. distance\",\n",
    "                   xlabel=\"Duration (s)\",\n",
    "                   ylabel=\"Distance (m)\",\n",
    "                   figsize=(8,8))"
   ]
  },
  {
   "cell_type": "markdown",
   "metadata": {},
   "source": [
    "<p>Here we can see that some values of 'distance' are negative which we already knew and have to fix. They seem to follow the trend of duration so we can assume that they are fine if we turn them to positive values. We also see two clear outliers.</p>"
   ]
  },
  {
   "cell_type": "code",
   "execution_count": 198,
   "metadata": {},
   "outputs": [
    {
     "data": {
      "text/plain": [
       "<Axes: title={'center': 'Duration v. cost'}, xlabel='Duration (s)', ylabel='Cost (€)'>"
      ]
     },
     "execution_count": 198,
     "metadata": {},
     "output_type": "execute_result"
    },
    {
     "data": {
      "image/png": "[encoded data removed]",
      "text/plain": [
       "<Figure size 800x800 with 1 Axes>"
      ]
     },
     "metadata": {},
     "output_type": "display_data"
    }
   ],
   "source": [
    "# lets create a scatter plot of columns 'duration' and 'cost'\n",
    "\n",
    "bikes.plot.scatter('duration', 'cost',\n",
    "                   title=\"Duration v. cost\",\n",
    "                   xlabel=\"Duration (s)\",\n",
    "                   ylabel=\"Cost (€)\",\n",
    "                   figsize=(8,8))"
   ]
  },
  {
   "cell_type": "markdown",
   "metadata": {},
   "source": [
    "<p>We see the same two outliers in both cost and duration so we can confidently mark them as technical faults and can clean them up.</p>"
   ]
  },
  {
   "cell_type": "markdown",
   "metadata": {},
   "source": [
    "<p>Cost being 0 is okay, because ticket types 'season' and 'savonia' don't register payment.</p>"
   ]
  },
  {
   "cell_type": "markdown",
   "metadata": {},
   "source": [
    "<p>There was also a mention in the documentation that there are observations where customers only tried the renting system and didn't ride the bike. So we can clean up all observations where distance is 0.</p>"
   ]
  },
  {
   "cell_type": "code",
   "execution_count": 199,
   "metadata": {},
   "outputs": [
    {
     "data": {
      "text/plain": [
       "<Axes: title={'center': 'Energy used v. Energy collected'}, xlabel='Energy used (Wh)', ylabel='Energy collected (Wh)'>"
      ]
     },
     "execution_count": 199,
     "metadata": {},
     "output_type": "execute_result"
    },
    {
     "data": {
      "image/png": "[encoded data removed]",
      "text/plain": [
       "<Figure size 800x800 with 1 Axes>"
      ]
     },
     "metadata": {},
     "output_type": "display_data"
    }
   ],
   "source": [
    "# scatter plot of enery variables\n",
    "\n",
    "bikes.plot.scatter('energy_used', 'energy_collected',\n",
    "                   title=\"Energy used v. Energy collected\",\n",
    "                   xlabel=\"Energy used (Wh)\",\n",
    "                   ylabel=\"Energy collected (Wh)\",\n",
    "                   figsize=(8,8))"
   ]
  },
  {
   "cell_type": "markdown",
   "metadata": {},
   "source": [
    "<p>There are some issues in the energy variables. Instances where either energy used or energy collected is zero are problematic, except when assistance is also zero. This might be because of a technical error in data gathering or the bike's actual energy system. Either way, we want to get rid of these rows.</p>"
   ]
  },
  {
   "cell_type": "markdown",
   "metadata": {},
   "source": [
    "<h4>Cleaning dataframe</h4>"
   ]
  },
  {
   "cell_type": "code",
   "execution_count": 200,
   "metadata": {},
   "outputs": [],
   "source": [
    "# removing two observations with technical problems\n",
    "\n",
    "bikes = bikes[bikes['cost'] != 100]"
   ]
  },
  {
   "cell_type": "code",
   "execution_count": 201,
   "metadata": {},
   "outputs": [],
   "source": [
    "# fixing the negative values in the 'distance' column\n",
    "\n",
    "bikes.loc[:, 'distance'] = bikes['distance'].abs()"
   ]
  },
  {
   "cell_type": "code",
   "execution_count": 202,
   "metadata": {},
   "outputs": [],
   "source": [
    "# remove all rows where distance is 0\n",
    "\n",
    "bikes = bikes[bikes['distance'] != 0]"
   ]
  },
  {
   "cell_type": "code",
   "execution_count": 203,
   "metadata": {},
   "outputs": [],
   "source": [
    "# removing rows where energy collected is 0 and rows where energy\n",
    "# used is zero even though assistance is used\n",
    "\n",
    "bikes = bikes[bikes['energy_collected'] != 0]\n",
    "bikes = bikes[(bikes['energy_used'] != 0) | ((bikes['energy_used'] == 0) & (bikes['assistance'] == 0))]"
   ]
  },
  {
   "cell_type": "code",
   "execution_count": 204,
   "metadata": {},
   "outputs": [
    {
     "data": {
      "text/html": [
       "<div>\n",
       "<style scoped>\n",
       "    .dataframe tbody tr th:only-of-type {\n",
       "        vertical-align: middle;\n",
       "    }\n",
       "\n",
       "    .dataframe tbody tr th {\n",
       "        vertical-align: top;\n",
       "    }\n",
       "\n",
       "    .dataframe thead th {\n",
       "        text-align: right;\n",
       "    }\n",
       "</style>\n",
       "<table border=\"1\" class=\"dataframe\">\n",
       "  <thead>\n",
       "    <tr style=\"text-align: right;\">\n",
       "      <th></th>\n",
       "      <th>ticket</th>\n",
       "      <th>cost</th>\n",
       "      <th>month</th>\n",
       "      <th>location_from</th>\n",
       "      <th>location_to</th>\n",
       "      <th>duration</th>\n",
       "      <th>distance</th>\n",
       "      <th>assistance</th>\n",
       "      <th>energy_used</th>\n",
       "      <th>energy_collected</th>\n",
       "    </tr>\n",
       "  </thead>\n",
       "  <tbody>\n",
       "    <tr>\n",
       "      <th>0</th>\n",
       "      <td>single</td>\n",
       "      <td>0.35</td>\n",
       "      <td>9</td>\n",
       "      <td>MICROTEKNIA</td>\n",
       "      <td>PUIJONLAAKSO</td>\n",
       "      <td>411.0</td>\n",
       "      <td>2150</td>\n",
       "      <td>1</td>\n",
       "      <td>19.0</td>\n",
       "      <td>2.7</td>\n",
       "    </tr>\n",
       "    <tr>\n",
       "      <th>1</th>\n",
       "      <td>single</td>\n",
       "      <td>1.20</td>\n",
       "      <td>5</td>\n",
       "      <td>SATAMA</td>\n",
       "      <td>KEILANKANTA</td>\n",
       "      <td>1411.0</td>\n",
       "      <td>7130</td>\n",
       "      <td>1</td>\n",
       "      <td>53.8</td>\n",
       "      <td>15.3</td>\n",
       "    </tr>\n",
       "    <tr>\n",
       "      <th>2</th>\n",
       "      <td>savonia</td>\n",
       "      <td>0.00</td>\n",
       "      <td>9</td>\n",
       "      <td>TASAVALLANKATU</td>\n",
       "      <td>NEULAMÄKI</td>\n",
       "      <td>1308.0</td>\n",
       "      <td>5420</td>\n",
       "      <td>1</td>\n",
       "      <td>43.0</td>\n",
       "      <td>9.9</td>\n",
       "    </tr>\n",
       "    <tr>\n",
       "      <th>3</th>\n",
       "      <td>savonia</td>\n",
       "      <td>0.00</td>\n",
       "      <td>10</td>\n",
       "      <td>TORI</td>\n",
       "      <td>KAUPPAKATU</td>\n",
       "      <td>1036.0</td>\n",
       "      <td>1180</td>\n",
       "      <td>1</td>\n",
       "      <td>6.5</td>\n",
       "      <td>2.1</td>\n",
       "    </tr>\n",
       "    <tr>\n",
       "      <th>4</th>\n",
       "      <td>single</td>\n",
       "      <td>0.30</td>\n",
       "      <td>9</td>\n",
       "      <td>TORI</td>\n",
       "      <td>TORI</td>\n",
       "      <td>319.0</td>\n",
       "      <td>1120</td>\n",
       "      <td>1</td>\n",
       "      <td>13.7</td>\n",
       "      <td>1.2</td>\n",
       "    </tr>\n",
       "    <tr>\n",
       "      <th>...</th>\n",
       "      <td>...</td>\n",
       "      <td>...</td>\n",
       "      <td>...</td>\n",
       "      <td>...</td>\n",
       "      <td>...</td>\n",
       "      <td>...</td>\n",
       "      <td>...</td>\n",
       "      <td>...</td>\n",
       "      <td>...</td>\n",
       "      <td>...</td>\n",
       "    </tr>\n",
       "    <tr>\n",
       "      <th>1380</th>\n",
       "      <td>single</td>\n",
       "      <td>1.00</td>\n",
       "      <td>7</td>\n",
       "      <td>KEILANKANTA</td>\n",
       "      <td>KAUPPAKATU</td>\n",
       "      <td>1167.0</td>\n",
       "      <td>6070</td>\n",
       "      <td>1</td>\n",
       "      <td>34.3</td>\n",
       "      <td>3.0</td>\n",
       "    </tr>\n",
       "    <tr>\n",
       "      <th>1381</th>\n",
       "      <td>savonia</td>\n",
       "      <td>0.00</td>\n",
       "      <td>10</td>\n",
       "      <td>KAUPPAKATU</td>\n",
       "      <td>TORI</td>\n",
       "      <td>836.0</td>\n",
       "      <td>960</td>\n",
       "      <td>1</td>\n",
       "      <td>8.0</td>\n",
       "      <td>2.7</td>\n",
       "    </tr>\n",
       "    <tr>\n",
       "      <th>1382</th>\n",
       "      <td>single</td>\n",
       "      <td>0.20</td>\n",
       "      <td>7</td>\n",
       "      <td>TORI</td>\n",
       "      <td>SATAMA</td>\n",
       "      <td>199.0</td>\n",
       "      <td>930</td>\n",
       "      <td>1</td>\n",
       "      <td>3.7</td>\n",
       "      <td>3.6</td>\n",
       "    </tr>\n",
       "    <tr>\n",
       "      <th>1383</th>\n",
       "      <td>savonia</td>\n",
       "      <td>0.00</td>\n",
       "      <td>9</td>\n",
       "      <td>MICROTEKNIA</td>\n",
       "      <td>PUIJONLAAKSO</td>\n",
       "      <td>610.0</td>\n",
       "      <td>2460</td>\n",
       "      <td>1</td>\n",
       "      <td>36.5</td>\n",
       "      <td>6.9</td>\n",
       "    </tr>\n",
       "    <tr>\n",
       "      <th>1384</th>\n",
       "      <td>season</td>\n",
       "      <td>0.00</td>\n",
       "      <td>8</td>\n",
       "      <td>PUIJONLAAKSO</td>\n",
       "      <td>KAUPPAKATU</td>\n",
       "      <td>478.0</td>\n",
       "      <td>2250</td>\n",
       "      <td>1</td>\n",
       "      <td>8.1</td>\n",
       "      <td>13.8</td>\n",
       "    </tr>\n",
       "  </tbody>\n",
       "</table>\n",
       "<p>1385 rows × 10 columns</p>\n",
       "</div>"
      ],
      "text/plain": [
       "       ticket  cost  month   location_from   location_to  duration  distance  \\\n",
       "0      single  0.35      9     MICROTEKNIA  PUIJONLAAKSO     411.0      2150   \n",
       "1      single  1.20      5          SATAMA   KEILANKANTA    1411.0      7130   \n",
       "2     savonia  0.00      9  TASAVALLANKATU     NEULAMÄKI    1308.0      5420   \n",
       "3     savonia  0.00     10            TORI    KAUPPAKATU    1036.0      1180   \n",
       "4      single  0.30      9            TORI          TORI     319.0      1120   \n",
       "...       ...   ...    ...             ...           ...       ...       ...   \n",
       "1380   single  1.00      7     KEILANKANTA    KAUPPAKATU    1167.0      6070   \n",
       "1381  savonia  0.00     10      KAUPPAKATU          TORI     836.0       960   \n",
       "1382   single  0.20      7            TORI        SATAMA     199.0       930   \n",
       "1383  savonia  0.00      9     MICROTEKNIA  PUIJONLAAKSO     610.0      2460   \n",
       "1384   season  0.00      8    PUIJONLAAKSO    KAUPPAKATU     478.0      2250   \n",
       "\n",
       "      assistance  energy_used  energy_collected  \n",
       "0              1         19.0               2.7  \n",
       "1              1         53.8              15.3  \n",
       "2              1         43.0               9.9  \n",
       "3              1          6.5               2.1  \n",
       "4              1         13.7               1.2  \n",
       "...          ...          ...               ...  \n",
       "1380           1         34.3               3.0  \n",
       "1381           1          8.0               2.7  \n",
       "1382           1          3.7               3.6  \n",
       "1383           1         36.5               6.9  \n",
       "1384           1          8.1              13.8  \n",
       "\n",
       "[1385 rows x 10 columns]"
      ]
     },
     "execution_count": 204,
     "metadata": {},
     "output_type": "execute_result"
    }
   ],
   "source": [
    "# resetting the indexes of the dataframe\n",
    "\n",
    "bikes = bikes.reset_index(drop=True)\n",
    "bikes"
   ]
  },
  {
   "cell_type": "markdown",
   "metadata": {},
   "source": [
    "<p>Dataframe is now cleaned up and ready for exploration. A little under 400 instances were removed from the dataframe.</p>\n",
    "<p>All rows where either technical issues or just irrelevant data were found were either removed or fixed. This decreases the amount false analysis.</p>"
   ]
  },
  {
   "cell_type": "markdown",
   "metadata": {},
   "source": [
    "<h2>Data exploration</h2>"
   ]
  },
  {
   "cell_type": "markdown",
   "metadata": {},
   "source": [
    "<h4>Customer analysis</h4>"
   ]
  },
  {
   "cell_type": "code",
   "execution_count": 205,
   "metadata": {},
   "outputs": [
    {
     "name": "stdout",
     "output_type": "stream",
     "text": [
      "Number of trips made in each ticket type:\n",
      "\n",
      "ticket\n",
      "savonia    201\n",
      "season     426\n",
      "single     758\n",
      "dtype: int64\n",
      "\n",
      "Total distance travelled in each ticket type:\n",
      "\n",
      "ticket\n",
      "savonia     491220\n",
      "season     1291890\n",
      "single     2520000\n",
      "Name: distance, dtype: int64\n",
      "\n",
      "Total time travelled in each ticket type:\n",
      "\n",
      "ticket\n",
      "savonia    132425.0\n",
      "season     308396.0\n",
      "single     620232.0\n",
      "Name: duration, dtype: float64\n",
      "\n",
      "Total amount of fees paid in each ticket type:\n",
      "\n",
      "ticket\n",
      "savonia      2.0\n",
      "season       3.0\n",
      "single     536.3\n",
      "Name: cost, dtype: float64\n"
     ]
    }
   ],
   "source": [
    "# For each ticket type, calculate the number of trips made, \n",
    "# the total distance travelled, the total time travelled \n",
    "# and the total amount of fees paid\n",
    "\n",
    "# first lets group the dataframe by ticket types\n",
    "\n",
    "grouped = bikes.groupby('ticket')\n",
    "\n",
    "# number of trips in each group\n",
    "\n",
    "print(f\"Number of trips made in each ticket type:\\n\\n{grouped.size()}\\n\")\n",
    "\n",
    "# total distance travelled in each group\n",
    "\n",
    "print(f\"Total distance travelled in each ticket type:\\n\\n{grouped['distance'].sum()}\\n\")\n",
    "\n",
    "# total time travelled in each group\n",
    "\n",
    "print(f\"Total time travelled in each ticket type:\\n\\n{grouped['duration'].sum()}\\n\")\n",
    "\n",
    "# amount of fees payd in each group\n",
    "\n",
    "print(f\"Total amount of fees paid in each ticket type:\\n\\n{grouped['cost'].sum()}\")"
   ]
  },
  {
   "cell_type": "markdown",
   "metadata": {},
   "source": [
    "<p>Most customers are single ticket users. Over a half of the total trips made were by single ticket users.</p>\n",
    "<p>The total distance and duration of travels very closely reflect the total trips made.</p>\n",
    "<p>Amount of fees paid is a bit wierd. For the single tickets, the 758 tips made generated 536.3 euros but for season and savonia ticket users we can't know. The presented values are propably technical errors.</p>"
   ]
  },
  {
   "cell_type": "code",
   "execution_count": 206,
   "metadata": {},
   "outputs": [
    {
     "data": {
      "text/plain": [
       "<Axes: xlabel='month', ylabel='Distance (m)'>"
      ]
     },
     "execution_count": 206,
     "metadata": {},
     "output_type": "execute_result"
    },
    {
     "data": {
      "image/png": "[encoded data removed]",
      "text/plain": [
       "<Figure size 640x480 with 1 Axes>"
      ]
     },
     "metadata": {},
     "output_type": "display_data"
    }
   ],
   "source": [
    "# For each ticket type, visualise the monthly rental activity\n",
    "# in terms of the total distance travelled.\n",
    "\n",
    "m_df = bikes.iloc[:,[0,2,6]].groupby(['ticket', 'month']).sum()\n",
    "\n",
    "m_df.unstack('ticket').plot.bar(ylabel='Distance (m)')"
   ]
  },
  {
   "cell_type": "markdown",
   "metadata": {},
   "source": [
    "<p>It seems like the service was launched in April because the usages for that month are so low. The warm summer months are more popular in the single ticket users. The season ticket use is much more stable than the single ticket use but it is slightly decreasing as the year goes on. Savonia tickets are of course used in fall when the school year starts. The availability to purchase savonia ticket doesn't seem to affect the sales of other ticket types very much. June and July are the most popular months all in all.</p>"
   ]
  },
  {
   "cell_type": "markdown",
   "metadata": {},
   "source": [
    "<h4>Logistic analysis</h4>"
   ]
  },
  {
   "cell_type": "code",
   "execution_count": 207,
   "metadata": {},
   "outputs": [
    {
     "data": {
      "text/html": [
       "<div>\n",
       "<style scoped>\n",
       "    .dataframe tbody tr th:only-of-type {\n",
       "        vertical-align: middle;\n",
       "    }\n",
       "\n",
       "    .dataframe tbody tr th {\n",
       "        vertical-align: top;\n",
       "    }\n",
       "\n",
       "    .dataframe thead th {\n",
       "        text-align: right;\n",
       "    }\n",
       "</style>\n",
       "<table border=\"1\" class=\"dataframe\">\n",
       "  <thead>\n",
       "    <tr style=\"text-align: right;\">\n",
       "      <th></th>\n",
       "      <th>taken from</th>\n",
       "      <th>delivered to</th>\n",
       "    </tr>\n",
       "  </thead>\n",
       "  <tbody>\n",
       "    <tr>\n",
       "      <th>TORI</th>\n",
       "      <td>309</td>\n",
       "      <td>295</td>\n",
       "    </tr>\n",
       "    <tr>\n",
       "      <th>KAUPPAKATU</th>\n",
       "      <td>181</td>\n",
       "      <td>213</td>\n",
       "    </tr>\n",
       "    <tr>\n",
       "      <th>SATAMA</th>\n",
       "      <td>155</td>\n",
       "      <td>124</td>\n",
       "    </tr>\n",
       "    <tr>\n",
       "      <th>MICROTEKNIA</th>\n",
       "      <td>154</td>\n",
       "      <td>145</td>\n",
       "    </tr>\n",
       "    <tr>\n",
       "      <th>NEULAMÄKI</th>\n",
       "      <td>135</td>\n",
       "      <td>138</td>\n",
       "    </tr>\n",
       "    <tr>\n",
       "      <th>PUIJONLAAKSO</th>\n",
       "      <td>129</td>\n",
       "      <td>159</td>\n",
       "    </tr>\n",
       "    <tr>\n",
       "      <th>KEILANKANTA</th>\n",
       "      <td>117</td>\n",
       "      <td>110</td>\n",
       "    </tr>\n",
       "    <tr>\n",
       "      <th>TASAVALLANKATU</th>\n",
       "      <td>105</td>\n",
       "      <td>117</td>\n",
       "    </tr>\n",
       "    <tr>\n",
       "      <th>KYS</th>\n",
       "      <td>75</td>\n",
       "      <td>58</td>\n",
       "    </tr>\n",
       "    <tr>\n",
       "      <th>PIRTTI</th>\n",
       "      <td>25</td>\n",
       "      <td>26</td>\n",
       "    </tr>\n",
       "  </tbody>\n",
       "</table>\n",
       "</div>"
      ],
      "text/plain": [
       "                 taken from  delivered to\n",
       "TORI                    309           295\n",
       "KAUPPAKATU              181           213\n",
       "SATAMA                  155           124\n",
       "MICROTEKNIA             154           145\n",
       "NEULAMÄKI               135           138\n",
       "PUIJONLAAKSO            129           159\n",
       "KEILANKANTA             117           110\n",
       "TASAVALLANKATU          105           117\n",
       "KYS                      75            58\n",
       "PIRTTI                   25            26"
      ]
     },
     "execution_count": 207,
     "metadata": {},
     "output_type": "execute_result"
    }
   ],
   "source": [
    "# find the stations with the largest deficits and surplus\n",
    "\n",
    "# create df\n",
    "\n",
    "from_df = P.Series(bikes['location_from'].value_counts(), name=' taken from')\n",
    "\n",
    "to_df = P.Series(bikes['location_to'].value_counts(), name='delivered to')\n",
    "\n",
    "from_to_df = P.concat([from_df, to_df], axis=1)\n",
    "from_to_df"
   ]
  },
  {
   "cell_type": "code",
   "execution_count": 208,
   "metadata": {},
   "outputs": [
    {
     "data": {
      "text/html": [
       "<div>\n",
       "<style scoped>\n",
       "    .dataframe tbody tr th:only-of-type {\n",
       "        vertical-align: middle;\n",
       "    }\n",
       "\n",
       "    .dataframe tbody tr th {\n",
       "        vertical-align: top;\n",
       "    }\n",
       "\n",
       "    .dataframe thead th {\n",
       "        text-align: right;\n",
       "    }\n",
       "</style>\n",
       "<table border=\"1\" class=\"dataframe\">\n",
       "  <thead>\n",
       "    <tr style=\"text-align: right;\">\n",
       "      <th></th>\n",
       "      <th>taken from</th>\n",
       "      <th>delivered to</th>\n",
       "      <th>difference</th>\n",
       "    </tr>\n",
       "  </thead>\n",
       "  <tbody>\n",
       "    <tr>\n",
       "      <th>KAUPPAKATU</th>\n",
       "      <td>181</td>\n",
       "      <td>213</td>\n",
       "      <td>32</td>\n",
       "    </tr>\n",
       "    <tr>\n",
       "      <th>PUIJONLAAKSO</th>\n",
       "      <td>129</td>\n",
       "      <td>159</td>\n",
       "      <td>30</td>\n",
       "    </tr>\n",
       "    <tr>\n",
       "      <th>TASAVALLANKATU</th>\n",
       "      <td>105</td>\n",
       "      <td>117</td>\n",
       "      <td>12</td>\n",
       "    </tr>\n",
       "    <tr>\n",
       "      <th>NEULAMÄKI</th>\n",
       "      <td>135</td>\n",
       "      <td>138</td>\n",
       "      <td>3</td>\n",
       "    </tr>\n",
       "    <tr>\n",
       "      <th>PIRTTI</th>\n",
       "      <td>25</td>\n",
       "      <td>26</td>\n",
       "      <td>1</td>\n",
       "    </tr>\n",
       "    <tr>\n",
       "      <th>KEILANKANTA</th>\n",
       "      <td>117</td>\n",
       "      <td>110</td>\n",
       "      <td>-7</td>\n",
       "    </tr>\n",
       "    <tr>\n",
       "      <th>MICROTEKNIA</th>\n",
       "      <td>154</td>\n",
       "      <td>145</td>\n",
       "      <td>-9</td>\n",
       "    </tr>\n",
       "    <tr>\n",
       "      <th>TORI</th>\n",
       "      <td>309</td>\n",
       "      <td>295</td>\n",
       "      <td>-14</td>\n",
       "    </tr>\n",
       "    <tr>\n",
       "      <th>KYS</th>\n",
       "      <td>75</td>\n",
       "      <td>58</td>\n",
       "      <td>-17</td>\n",
       "    </tr>\n",
       "    <tr>\n",
       "      <th>SATAMA</th>\n",
       "      <td>155</td>\n",
       "      <td>124</td>\n",
       "      <td>-31</td>\n",
       "    </tr>\n",
       "  </tbody>\n",
       "</table>\n",
       "</div>"
      ],
      "text/plain": [
       "                 taken from  delivered to  difference\n",
       "KAUPPAKATU              181           213          32\n",
       "PUIJONLAAKSO            129           159          30\n",
       "TASAVALLANKATU          105           117          12\n",
       "NEULAMÄKI               135           138           3\n",
       "PIRTTI                   25            26           1\n",
       "KEILANKANTA             117           110          -7\n",
       "MICROTEKNIA             154           145          -9\n",
       "TORI                    309           295         -14\n",
       "KYS                      75            58         -17\n",
       "SATAMA                  155           124         -31"
      ]
     },
     "execution_count": 208,
     "metadata": {},
     "output_type": "execute_result"
    }
   ],
   "source": [
    "# calculating difference\n",
    "\n",
    "from_to_df['difference'] = (to_df - from_df)\n",
    "\n",
    "\n",
    "from_to_df.sort_values(by='difference', ascending=False)"
   ]
  },
  {
   "cell_type": "markdown",
   "metadata": {},
   "source": [
    "<p>The three stations with the biggest deficit of bikes are: SATAMA, KYS and TORI.</p>\n",
    "<p>The three stations with the biggest surplus of bikes are: KAUPPAKATU, PUIJONLAAKSO and TASAVALLANKATU.</p>\n",
    "\n",
    "<p>My suggestion for transfering bikes after these results and looking at the map a little bit would be that some bikes would be transferred from PUIJONLAAKSO to KYS. The surplus bikes from KAUPPAKATU could be transferred to SATAMA. The transferring from TASAVALLANKATU to TORI is not that worthwhile or at least could be done less often because the surplus and deposits are not very significatn and the distance between the stations is a little longer.</p>"
   ]
  },
  {
   "cell_type": "code",
   "execution_count": 209,
   "metadata": {},
   "outputs": [
    {
     "data": {
      "text/html": [
       "<div>\n",
       "<style scoped>\n",
       "    .dataframe tbody tr th:only-of-type {\n",
       "        vertical-align: middle;\n",
       "    }\n",
       "\n",
       "    .dataframe tbody tr th {\n",
       "        vertical-align: top;\n",
       "    }\n",
       "\n",
       "    .dataframe thead th {\n",
       "        text-align: right;\n",
       "    }\n",
       "</style>\n",
       "<table border=\"1\" class=\"dataframe\">\n",
       "  <thead>\n",
       "    <tr style=\"text-align: right;\">\n",
       "      <th></th>\n",
       "      <th>ticket</th>\n",
       "      <th>cost</th>\n",
       "      <th>month</th>\n",
       "      <th>location_from</th>\n",
       "      <th>location_to</th>\n",
       "      <th>duration</th>\n",
       "      <th>distance</th>\n",
       "      <th>assistance</th>\n",
       "      <th>energy_used</th>\n",
       "      <th>energy_collected</th>\n",
       "      <th>net_energy</th>\n",
       "    </tr>\n",
       "  </thead>\n",
       "  <tbody>\n",
       "    <tr>\n",
       "      <th>0</th>\n",
       "      <td>single</td>\n",
       "      <td>0.35</td>\n",
       "      <td>9</td>\n",
       "      <td>MICROTEKNIA</td>\n",
       "      <td>PUIJONLAAKSO</td>\n",
       "      <td>411.0</td>\n",
       "      <td>2150</td>\n",
       "      <td>1</td>\n",
       "      <td>19.0</td>\n",
       "      <td>2.7</td>\n",
       "      <td>-16.3</td>\n",
       "    </tr>\n",
       "    <tr>\n",
       "      <th>1</th>\n",
       "      <td>single</td>\n",
       "      <td>1.20</td>\n",
       "      <td>5</td>\n",
       "      <td>SATAMA</td>\n",
       "      <td>KEILANKANTA</td>\n",
       "      <td>1411.0</td>\n",
       "      <td>7130</td>\n",
       "      <td>1</td>\n",
       "      <td>53.8</td>\n",
       "      <td>15.3</td>\n",
       "      <td>-38.5</td>\n",
       "    </tr>\n",
       "    <tr>\n",
       "      <th>2</th>\n",
       "      <td>savonia</td>\n",
       "      <td>0.00</td>\n",
       "      <td>9</td>\n",
       "      <td>TASAVALLANKATU</td>\n",
       "      <td>NEULAMÄKI</td>\n",
       "      <td>1308.0</td>\n",
       "      <td>5420</td>\n",
       "      <td>1</td>\n",
       "      <td>43.0</td>\n",
       "      <td>9.9</td>\n",
       "      <td>-33.1</td>\n",
       "    </tr>\n",
       "    <tr>\n",
       "      <th>3</th>\n",
       "      <td>savonia</td>\n",
       "      <td>0.00</td>\n",
       "      <td>10</td>\n",
       "      <td>TORI</td>\n",
       "      <td>KAUPPAKATU</td>\n",
       "      <td>1036.0</td>\n",
       "      <td>1180</td>\n",
       "      <td>1</td>\n",
       "      <td>6.5</td>\n",
       "      <td>2.1</td>\n",
       "      <td>-4.4</td>\n",
       "    </tr>\n",
       "    <tr>\n",
       "      <th>4</th>\n",
       "      <td>single</td>\n",
       "      <td>0.30</td>\n",
       "      <td>9</td>\n",
       "      <td>TORI</td>\n",
       "      <td>TORI</td>\n",
       "      <td>319.0</td>\n",
       "      <td>1120</td>\n",
       "      <td>1</td>\n",
       "      <td>13.7</td>\n",
       "      <td>1.2</td>\n",
       "      <td>-12.5</td>\n",
       "    </tr>\n",
       "    <tr>\n",
       "      <th>...</th>\n",
       "      <td>...</td>\n",
       "      <td>...</td>\n",
       "      <td>...</td>\n",
       "      <td>...</td>\n",
       "      <td>...</td>\n",
       "      <td>...</td>\n",
       "      <td>...</td>\n",
       "      <td>...</td>\n",
       "      <td>...</td>\n",
       "      <td>...</td>\n",
       "      <td>...</td>\n",
       "    </tr>\n",
       "    <tr>\n",
       "      <th>1380</th>\n",
       "      <td>single</td>\n",
       "      <td>1.00</td>\n",
       "      <td>7</td>\n",
       "      <td>KEILANKANTA</td>\n",
       "      <td>KAUPPAKATU</td>\n",
       "      <td>1167.0</td>\n",
       "      <td>6070</td>\n",
       "      <td>1</td>\n",
       "      <td>34.3</td>\n",
       "      <td>3.0</td>\n",
       "      <td>-31.3</td>\n",
       "    </tr>\n",
       "    <tr>\n",
       "      <th>1381</th>\n",
       "      <td>savonia</td>\n",
       "      <td>0.00</td>\n",
       "      <td>10</td>\n",
       "      <td>KAUPPAKATU</td>\n",
       "      <td>TORI</td>\n",
       "      <td>836.0</td>\n",
       "      <td>960</td>\n",
       "      <td>1</td>\n",
       "      <td>8.0</td>\n",
       "      <td>2.7</td>\n",
       "      <td>-5.3</td>\n",
       "    </tr>\n",
       "    <tr>\n",
       "      <th>1382</th>\n",
       "      <td>single</td>\n",
       "      <td>0.20</td>\n",
       "      <td>7</td>\n",
       "      <td>TORI</td>\n",
       "      <td>SATAMA</td>\n",
       "      <td>199.0</td>\n",
       "      <td>930</td>\n",
       "      <td>1</td>\n",
       "      <td>3.7</td>\n",
       "      <td>3.6</td>\n",
       "      <td>-0.1</td>\n",
       "    </tr>\n",
       "    <tr>\n",
       "      <th>1383</th>\n",
       "      <td>savonia</td>\n",
       "      <td>0.00</td>\n",
       "      <td>9</td>\n",
       "      <td>MICROTEKNIA</td>\n",
       "      <td>PUIJONLAAKSO</td>\n",
       "      <td>610.0</td>\n",
       "      <td>2460</td>\n",
       "      <td>1</td>\n",
       "      <td>36.5</td>\n",
       "      <td>6.9</td>\n",
       "      <td>-29.6</td>\n",
       "    </tr>\n",
       "    <tr>\n",
       "      <th>1384</th>\n",
       "      <td>season</td>\n",
       "      <td>0.00</td>\n",
       "      <td>8</td>\n",
       "      <td>PUIJONLAAKSO</td>\n",
       "      <td>KAUPPAKATU</td>\n",
       "      <td>478.0</td>\n",
       "      <td>2250</td>\n",
       "      <td>1</td>\n",
       "      <td>8.1</td>\n",
       "      <td>13.8</td>\n",
       "      <td>5.7</td>\n",
       "    </tr>\n",
       "  </tbody>\n",
       "</table>\n",
       "<p>1385 rows × 11 columns</p>\n",
       "</div>"
      ],
      "text/plain": [
       "       ticket  cost  month   location_from   location_to  duration  distance  \\\n",
       "0      single  0.35      9     MICROTEKNIA  PUIJONLAAKSO     411.0      2150   \n",
       "1      single  1.20      5          SATAMA   KEILANKANTA    1411.0      7130   \n",
       "2     savonia  0.00      9  TASAVALLANKATU     NEULAMÄKI    1308.0      5420   \n",
       "3     savonia  0.00     10            TORI    KAUPPAKATU    1036.0      1180   \n",
       "4      single  0.30      9            TORI          TORI     319.0      1120   \n",
       "...       ...   ...    ...             ...           ...       ...       ...   \n",
       "1380   single  1.00      7     KEILANKANTA    KAUPPAKATU    1167.0      6070   \n",
       "1381  savonia  0.00     10      KAUPPAKATU          TORI     836.0       960   \n",
       "1382   single  0.20      7            TORI        SATAMA     199.0       930   \n",
       "1383  savonia  0.00      9     MICROTEKNIA  PUIJONLAAKSO     610.0      2460   \n",
       "1384   season  0.00      8    PUIJONLAAKSO    KAUPPAKATU     478.0      2250   \n",
       "\n",
       "      assistance  energy_used  energy_collected  net_energy  \n",
       "0              1         19.0               2.7       -16.3  \n",
       "1              1         53.8              15.3       -38.5  \n",
       "2              1         43.0               9.9       -33.1  \n",
       "3              1          6.5               2.1        -4.4  \n",
       "4              1         13.7               1.2       -12.5  \n",
       "...          ...          ...               ...         ...  \n",
       "1380           1         34.3               3.0       -31.3  \n",
       "1381           1          8.0               2.7        -5.3  \n",
       "1382           1          3.7               3.6        -0.1  \n",
       "1383           1         36.5               6.9       -29.6  \n",
       "1384           1          8.1              13.8         5.7  \n",
       "\n",
       "[1385 rows x 11 columns]"
      ]
     },
     "execution_count": 209,
     "metadata": {},
     "output_type": "execute_result"
    }
   ],
   "source": [
    "# net energy gain\n",
    "\n",
    "bikes['net_energy'] = (bikes['energy_collected'] - bikes['energy_used'])\n",
    "bikes"
   ]
  },
  {
   "cell_type": "code",
   "execution_count": 210,
   "metadata": {},
   "outputs": [
    {
     "data": {
      "text/plain": [
       "<Axes: title={'center': 'Net energy of trips'}, ylabel='Frequency'>"
      ]
     },
     "execution_count": 210,
     "metadata": {},
     "output_type": "execute_result"
    },
    {
     "data": {
      "image/png": "[encoded data removed]",
      "text/plain": [
       "<Figure size 640x480 with 1 Axes>"
      ]
     },
     "metadata": {},
     "output_type": "display_data"
    }
   ],
   "source": [
    "# histogram of net energy\n",
    "\n",
    "bikes.net_energy.plot.hist(bins=30, title='Net energy of trips')\n"
   ]
  },
  {
   "cell_type": "code",
   "execution_count": 211,
   "metadata": {},
   "outputs": [
    {
     "name": "stdout",
     "output_type": "stream",
     "text": [
      "The mean of net energy is -14.78 Wh\n",
      "The median of net energy is -12.8 Wh\n"
     ]
    }
   ],
   "source": [
    "# some key statistics\n",
    "\n",
    "print(f'The mean of net energy is {round(bikes.net_energy.mean(),2)} Wh')\n",
    "print(f'The median of net energy is {round(bikes.net_energy.median(),2)} Wh')"
   ]
  },
  {
   "cell_type": "markdown",
   "metadata": {},
   "source": [
    "<p>The mean net energy per trip is about -14.78 Wh and the median is -12.8 Wh. From this and the histogram we can conclude that the bikes lose about 14 Wh of energy per trip. For longer trips the gain obviously varies and on some trips the bikes even have a positive net energy.</p>"
   ]
  },
  {
   "cell_type": "markdown",
   "metadata": {},
   "source": [
    "<h2>Hypothesis testing</h2>"
   ]
  },
  {
   "cell_type": "markdown",
   "metadata": {},
   "source": [
    "<h4>Travel times by ticket type</h4>"
   ]
  },
  {
   "cell_type": "code",
   "execution_count": 212,
   "metadata": {},
   "outputs": [
    {
     "name": "stdout",
     "output_type": "stream",
     "text": [
      "P-values:\n",
      "5.722510259809996e-35\n",
      "2.3158097661735155e-09\n"
     ]
    }
   ],
   "source": [
    "# Is there statistical evidence to claim that the travel times tend to be \n",
    "# shorter or longer for the single than for the season ticket type. \n",
    "# Justify your design choices, interpret the results and use your \n",
    "# discoveries to make conclusions about customers.\n",
    "\n",
    "# take groups\n",
    "\n",
    "single = grouped.get_group('single')\n",
    "season = grouped.get_group('season')\n",
    "\n",
    "# we have two nominal unpaired variables with many observations and we want to \n",
    "# compare if there is statistical evidence of their similarity\n",
    "\n",
    "# normality tests\n",
    "\n",
    "print('P-values:')\n",
    "print(S.shapiro(single['duration'])[1])\n",
    "print(S.shapiro(season['duration'])[1])"
   ]
  },
  {
   "cell_type": "code",
   "execution_count": 213,
   "metadata": {},
   "outputs": [
    {
     "data": {
      "text/plain": [
       "MannwhitneyuResult(statistic=166797.0, pvalue=0.3440975348272157)"
      ]
     },
     "execution_count": 213,
     "metadata": {},
     "output_type": "execute_result"
    }
   ],
   "source": [
    "# both variables are not normally distributed -> Mann-Whitney U test\n",
    "\n",
    "S.mannwhitneyu(single['duration'], season['duration'])"
   ]
  },
  {
   "cell_type": "code",
   "execution_count": 214,
   "metadata": {},
   "outputs": [
    {
     "data": {
      "text/plain": [
       "<Axes: ylabel='Frequency'>"
      ]
     },
     "execution_count": 214,
     "metadata": {},
     "output_type": "execute_result"
    },
    {
     "data": {
      "image/png": "[encoded data removed]",
      "text/plain": [
       "<Figure size 640x480 with 1 Axes>"
      ]
     },
     "metadata": {},
     "output_type": "display_data"
    }
   ],
   "source": [
    "# draw histograms to visualize\n",
    "\n",
    "single['duration'].plot.hist(bins=30, range=(0, 5000))"
   ]
  },
  {
   "cell_type": "code",
   "execution_count": 215,
   "metadata": {},
   "outputs": [
    {
     "data": {
      "text/plain": [
       "<Axes: ylabel='Frequency'>"
      ]
     },
     "execution_count": 215,
     "metadata": {},
     "output_type": "execute_result"
    },
    {
     "data": {
      "image/png": "[encoded data removed]",
      "text/plain": [
       "<Figure size 640x480 with 1 Axes>"
      ]
     },
     "metadata": {},
     "output_type": "display_data"
    }
   ],
   "source": [
    "season['duration'].plot.hist(bins=30, range=(0, 5000))"
   ]
  },
  {
   "cell_type": "markdown",
   "metadata": {},
   "source": [
    "<p>P-value from Mann-Whitney U test is greater than alpha level 0.05, so there is no evidence to reject null hypothesis which is that the variables are similar. We can conclude that there is no statistically significant difference in the duration time of trips made by single ticket and season ticket type users. Also, the histograms look very similar.</p>"
   ]
  },
  {
   "cell_type": "markdown",
   "metadata": {},
   "source": [
    "<h4>Correlation between travel distance and energy consumption</h4>"
   ]
  },
  {
   "cell_type": "code",
   "execution_count": 216,
   "metadata": {},
   "outputs": [
    {
     "data": {
      "text/html": [
       "<div>\n",
       "<style scoped>\n",
       "    .dataframe tbody tr th:only-of-type {\n",
       "        vertical-align: middle;\n",
       "    }\n",
       "\n",
       "    .dataframe tbody tr th {\n",
       "        vertical-align: top;\n",
       "    }\n",
       "\n",
       "    .dataframe thead th {\n",
       "        text-align: right;\n",
       "    }\n",
       "</style>\n",
       "<table border=\"1\" class=\"dataframe\">\n",
       "  <thead>\n",
       "    <tr style=\"text-align: right;\">\n",
       "      <th></th>\n",
       "      <th>distance</th>\n",
       "      <th>energy_used</th>\n",
       "    </tr>\n",
       "  </thead>\n",
       "  <tbody>\n",
       "    <tr>\n",
       "      <th>0</th>\n",
       "      <td>2150</td>\n",
       "      <td>19.0</td>\n",
       "    </tr>\n",
       "    <tr>\n",
       "      <th>1</th>\n",
       "      <td>7130</td>\n",
       "      <td>53.8</td>\n",
       "    </tr>\n",
       "    <tr>\n",
       "      <th>2</th>\n",
       "      <td>5420</td>\n",
       "      <td>43.0</td>\n",
       "    </tr>\n",
       "    <tr>\n",
       "      <th>3</th>\n",
       "      <td>1180</td>\n",
       "      <td>6.5</td>\n",
       "    </tr>\n",
       "    <tr>\n",
       "      <th>4</th>\n",
       "      <td>1120</td>\n",
       "      <td>13.7</td>\n",
       "    </tr>\n",
       "    <tr>\n",
       "      <th>...</th>\n",
       "      <td>...</td>\n",
       "      <td>...</td>\n",
       "    </tr>\n",
       "    <tr>\n",
       "      <th>1380</th>\n",
       "      <td>6070</td>\n",
       "      <td>34.3</td>\n",
       "    </tr>\n",
       "    <tr>\n",
       "      <th>1381</th>\n",
       "      <td>960</td>\n",
       "      <td>8.0</td>\n",
       "    </tr>\n",
       "    <tr>\n",
       "      <th>1382</th>\n",
       "      <td>930</td>\n",
       "      <td>3.7</td>\n",
       "    </tr>\n",
       "    <tr>\n",
       "      <th>1383</th>\n",
       "      <td>2460</td>\n",
       "      <td>36.5</td>\n",
       "    </tr>\n",
       "    <tr>\n",
       "      <th>1384</th>\n",
       "      <td>2250</td>\n",
       "      <td>8.1</td>\n",
       "    </tr>\n",
       "  </tbody>\n",
       "</table>\n",
       "<p>1309 rows × 2 columns</p>\n",
       "</div>"
      ],
      "text/plain": [
       "      distance  energy_used\n",
       "0         2150         19.0\n",
       "1         7130         53.8\n",
       "2         5420         43.0\n",
       "3         1180          6.5\n",
       "4         1120         13.7\n",
       "...        ...          ...\n",
       "1380      6070         34.3\n",
       "1381       960          8.0\n",
       "1382       930          3.7\n",
       "1383      2460         36.5\n",
       "1384      2250          8.1\n",
       "\n",
       "[1309 rows x 2 columns]"
      ]
     },
     "execution_count": 216,
     "metadata": {},
     "output_type": "execute_result"
    }
   ],
   "source": [
    "# Is there statistical evidence to claim that the travel distance positively \n",
    "# correlates with the average rate at which electricity is consumed \n",
    "# during the trip? Justify your design choices, interpret the results\n",
    "# and use your discoveries to make conclusions about customers.\n",
    "\n",
    "# create dataframe of columns 'distance' and 'energy_used' with only the rows \n",
    "# where assistance is used\n",
    "\n",
    "distance_energy_df = bikes.loc[(bikes.assistance == 1), ['distance', 'energy_used']]\n",
    "distance_energy_df"
   ]
  },
  {
   "cell_type": "code",
   "execution_count": 217,
   "metadata": {},
   "outputs": [
    {
     "name": "stdout",
     "output_type": "stream",
     "text": [
      "P-values:\n",
      "4.977683138055588e-32\n",
      "2.3460431618117955e-30\n"
     ]
    }
   ],
   "source": [
    "# normality tests\n",
    "\n",
    "print('P-values:')\n",
    "print(S.shapiro(distance_energy_df['distance'])[1])\n",
    "print(S.shapiro(distance_energy_df['energy_used'])[1])"
   ]
  },
  {
   "cell_type": "code",
   "execution_count": 218,
   "metadata": {},
   "outputs": [
    {
     "data": {
      "text/plain": [
       "SignificanceResult(statistic=0.8351415424475751, pvalue=0.0)"
      ]
     },
     "execution_count": 218,
     "metadata": {},
     "output_type": "execute_result"
    }
   ],
   "source": [
    "# neither datasets are normally distributed -> Spearman correlation\n",
    "\n",
    "S.spearmanr(distance_energy_df)"
   ]
  },
  {
   "cell_type": "markdown",
   "metadata": {},
   "source": [
    "<p>There is statistically significant evidence that distance of trips and energy consumed are positively correlated. With r = 0.84 and a very small p-value (scipy.stats rounds it to 0.0) we can confidently say that these variables are positively correlated. This makes sense from the bikes technical point of view. The longer the distance travelled the more energy the bikes use.</p>"
   ]
  },
  {
   "cell_type": "code",
   "execution_count": 219,
   "metadata": {},
   "outputs": [
    {
     "data": {
      "text/plain": [
       "<Axes: title={'center': 'Energy used vs. Trip distance'}, xlabel='Trip distance (m)', ylabel='Energy used (Wh)'>"
      ]
     },
     "execution_count": 219,
     "metadata": {},
     "output_type": "execute_result"
    },
    {
     "data": {
      "image/png": "[encoded data removed]",
      "text/plain": [
       "<Figure size 640x480 with 1 Axes>"
      ]
     },
     "metadata": {},
     "output_type": "display_data"
    }
   ],
   "source": [
    "# scatter plot to show correlation visually\n",
    "\n",
    "distance_energy_df.plot.scatter('distance', 'energy_used',\n",
    "                                title='Energy used vs. Trip distance',\n",
    "                                xlabel='Trip distance (m)',\n",
    "                                ylabel='Energy used (Wh)')"
   ]
  },
  {
   "cell_type": "markdown",
   "metadata": {},
   "source": [
    "<h4>Electric assistance used by ticket type</h4>"
   ]
  },
  {
   "cell_type": "code",
   "execution_count": 220,
   "metadata": {},
   "outputs": [
    {
     "data": {
      "text/html": [
       "<div>\n",
       "<style scoped>\n",
       "    .dataframe tbody tr th:only-of-type {\n",
       "        vertical-align: middle;\n",
       "    }\n",
       "\n",
       "    .dataframe tbody tr th {\n",
       "        vertical-align: top;\n",
       "    }\n",
       "\n",
       "    .dataframe thead th {\n",
       "        text-align: right;\n",
       "    }\n",
       "</style>\n",
       "<table border=\"1\" class=\"dataframe\">\n",
       "  <thead>\n",
       "    <tr style=\"text-align: right;\">\n",
       "      <th></th>\n",
       "      <th>ticket</th>\n",
       "      <th>assistance</th>\n",
       "    </tr>\n",
       "  </thead>\n",
       "  <tbody>\n",
       "    <tr>\n",
       "      <th>0</th>\n",
       "      <td>single</td>\n",
       "      <td>1</td>\n",
       "    </tr>\n",
       "    <tr>\n",
       "      <th>1</th>\n",
       "      <td>single</td>\n",
       "      <td>1</td>\n",
       "    </tr>\n",
       "    <tr>\n",
       "      <th>2</th>\n",
       "      <td>savonia</td>\n",
       "      <td>1</td>\n",
       "    </tr>\n",
       "    <tr>\n",
       "      <th>3</th>\n",
       "      <td>savonia</td>\n",
       "      <td>1</td>\n",
       "    </tr>\n",
       "    <tr>\n",
       "      <th>4</th>\n",
       "      <td>single</td>\n",
       "      <td>1</td>\n",
       "    </tr>\n",
       "    <tr>\n",
       "      <th>...</th>\n",
       "      <td>...</td>\n",
       "      <td>...</td>\n",
       "    </tr>\n",
       "    <tr>\n",
       "      <th>1380</th>\n",
       "      <td>single</td>\n",
       "      <td>1</td>\n",
       "    </tr>\n",
       "    <tr>\n",
       "      <th>1381</th>\n",
       "      <td>savonia</td>\n",
       "      <td>1</td>\n",
       "    </tr>\n",
       "    <tr>\n",
       "      <th>1382</th>\n",
       "      <td>single</td>\n",
       "      <td>1</td>\n",
       "    </tr>\n",
       "    <tr>\n",
       "      <th>1383</th>\n",
       "      <td>savonia</td>\n",
       "      <td>1</td>\n",
       "    </tr>\n",
       "    <tr>\n",
       "      <th>1384</th>\n",
       "      <td>season</td>\n",
       "      <td>1</td>\n",
       "    </tr>\n",
       "  </tbody>\n",
       "</table>\n",
       "<p>1385 rows × 2 columns</p>\n",
       "</div>"
      ],
      "text/plain": [
       "       ticket  assistance\n",
       "0      single           1\n",
       "1      single           1\n",
       "2     savonia           1\n",
       "3     savonia           1\n",
       "4      single           1\n",
       "...       ...         ...\n",
       "1380   single           1\n",
       "1381  savonia           1\n",
       "1382   single           1\n",
       "1383  savonia           1\n",
       "1384   season           1\n",
       "\n",
       "[1385 rows x 2 columns]"
      ]
     },
     "execution_count": 220,
     "metadata": {},
     "output_type": "execute_result"
    }
   ],
   "source": [
    "# Is there statistical evidence to claim that the savonia ticket type \n",
    "# differs from the others with respect to how often the electric assistance\n",
    "# is used? Justify your design choices, interpret the results and \n",
    "# use your discoveries to make conclusions about customers.\n",
    "\n",
    "assistance_ticket_df = bikes.iloc[:, [0, 7]]\n",
    "assistance_ticket_df"
   ]
  },
  {
   "cell_type": "code",
   "execution_count": 221,
   "metadata": {},
   "outputs": [
    {
     "data": {
      "text/html": [
       "<div>\n",
       "<style scoped>\n",
       "    .dataframe tbody tr th:only-of-type {\n",
       "        vertical-align: middle;\n",
       "    }\n",
       "\n",
       "    .dataframe tbody tr th {\n",
       "        vertical-align: top;\n",
       "    }\n",
       "\n",
       "    .dataframe thead th {\n",
       "        text-align: right;\n",
       "    }\n",
       "</style>\n",
       "<table border=\"1\" class=\"dataframe\">\n",
       "  <thead>\n",
       "    <tr style=\"text-align: right;\">\n",
       "      <th>ticket</th>\n",
       "      <th>savonia</th>\n",
       "      <th>season</th>\n",
       "      <th>single</th>\n",
       "    </tr>\n",
       "    <tr>\n",
       "      <th>assistance</th>\n",
       "      <th></th>\n",
       "      <th></th>\n",
       "      <th></th>\n",
       "    </tr>\n",
       "  </thead>\n",
       "  <tbody>\n",
       "    <tr>\n",
       "      <th>0</th>\n",
       "      <td>26</td>\n",
       "      <td>14</td>\n",
       "      <td>36</td>\n",
       "    </tr>\n",
       "    <tr>\n",
       "      <th>1</th>\n",
       "      <td>175</td>\n",
       "      <td>412</td>\n",
       "      <td>722</td>\n",
       "    </tr>\n",
       "  </tbody>\n",
       "</table>\n",
       "</div>"
      ],
      "text/plain": [
       "ticket      savonia  season  single\n",
       "assistance                         \n",
       "0                26      14      36\n",
       "1               175     412     722"
      ]
     },
     "execution_count": 221,
     "metadata": {},
     "output_type": "execute_result"
    }
   ],
   "source": [
    "# create dataframe ready for Pearson's chi-squared test\n",
    "\n",
    "count_df = assistance_ticket_df.groupby(['ticket', 'assistance']).size().reset_index(name='count')\n",
    "\n",
    "chi_df = count_df.pivot(index='ticket', columns='assistance', values='count')\n",
    "\n",
    "chi_df = chi_df.transpose()\n",
    "\n",
    "chi_df"
   ]
  },
  {
   "cell_type": "code",
   "execution_count": 222,
   "metadata": {},
   "outputs": [
    {
     "name": "stdout",
     "output_type": "stream",
     "text": [
      "P-value is: 1.9708011195783683e-06\n"
     ]
    }
   ],
   "source": [
    "# perform Pearson's chi-squared test\n",
    "\n",
    "print(f'P-value is: {S.chi2_contingency(chi_df)[1]}')"
   ]
  },
  {
   "cell_type": "code",
   "execution_count": 223,
   "metadata": {},
   "outputs": [
    {
     "name": "stdout",
     "output_type": "stream",
     "text": [
      "P-value for savonia and season is: 9.045539780310441e-06\n",
      "P-value for savonia and single is: 5.4708704876994465e-05\n",
      "P-value for season and single is: 0.293366941344712\n"
     ]
    }
   ],
   "source": [
    "# since p-value is very low we can assume that there is some difference\n",
    "# between the ticket types but we can't yet say that it is the savonia\n",
    "# type ticket that differs from the others\n",
    "\n",
    "# perform Pearson's chi-squared test for two variables at a time\n",
    "\n",
    "print(f'P-value for savonia and season is: {S.chi2_contingency(chi_df.iloc[:,[0, 1]])[1]}')\n",
    "print(f'P-value for savonia and single is: {S.chi2_contingency(chi_df.iloc[:,[0, 2]])[1]}')\n",
    "print(f'P-value for season and single is: {S.chi2_contingency(chi_df.iloc[:,[1, 2]])[1]}')\n"
   ]
  },
  {
   "cell_type": "markdown",
   "metadata": {},
   "source": [
    "<p>From here we can clearly tell that it is in fact the savonia ticket type that differs from the other two ticket types since p-value is below alpha level. We can also see from the dataframe that the percentage of assistance not used is a lot higher in savonia ticket type that it is in the other two ticket types.</p>"
   ]
  },
  {
   "cell_type": "markdown",
   "metadata": {},
   "source": [
    "<h2>Future directions</h2>"
   ]
  },
  {
   "cell_type": "markdown",
   "metadata": {},
   "source": [
    "<h4>A - own hypothesis</h4>"
   ]
  },
  {
   "cell_type": "markdown",
   "metadata": {},
   "source": [
    "<p>I think it would be interesting and beneficial for the company to figure out more about the monthly usage. For example if the average duration of trips differs for different months. And if the energy consumption per distance is different between colder and warmer months. Also, it would be interesting to see if the deficit and surplus of bikes per station would differ in relation to time of the year.</p>\n",
    "\n",
    "<p>The hypothesis I'd like to dive deeper in is if the deficit and surplus of bikes is significantly different at the summer break than at school months. If there is a difference it would be beneficial for the company to know this so that they can adjust the transfering logistics for each month, or for summer break and school months.</p>\n",
    "\n",
    "<p>How the hypothesis could be tested:</p>\n",
    "<p>We could divide the dataframe in to two by months so that months 5-8 would be summer break months and 4, 9 and 10 would be school months. Then we would count the surplus and deficit for those seperately like we have already done for all months. We wouldn't have to perform any statistical tests. We could just look at the dataframes and see if the results differ significantly enough so that it would be beneficial to make changes to the logistics.</p>"
   ]
  }
 ],
 "metadata": {
  "kernelspec": {
   "display_name": "Python 3",
   "language": "python",
   "name": "python3"
  },
  "language_info": {
   "codemirror_mode": {
    "name": "ipython",
    "version": 3
   },
   "file_extension": ".py",
   "mimetype": "text/x-python",
   "name": "python",
   "nbconvert_exporter": "python",
   "pygments_lexer": "ipython3",
   "version": "3.10.2"
  }
 },
 "nbformat": 4,
 "nbformat_minor": 2
}
