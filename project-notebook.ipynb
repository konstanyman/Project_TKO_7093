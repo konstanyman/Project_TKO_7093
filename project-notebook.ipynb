{
 "cells": [
  {
   "cell_type": "markdown",
   "metadata": {},
   "source": [
    "<h1>Data analysis report for bike company</h1>\n",
    "<i>Konsta Nyman</i>"
   ]
  },
  {
   "cell_type": "code",
   "execution_count": 104,
   "metadata": {},
   "outputs": [],
   "source": [
    "# imports\n",
    "\n",
    "import pandas as P\n",
    "import scipy.stats as S\n",
    "import numpy as N"
   ]
  },
  {
   "cell_type": "markdown",
   "metadata": {},
   "source": [
    "<h2>Data preparation</h2>"
   ]
  },
  {
   "cell_type": "code",
   "execution_count": 105,
   "metadata": {},
   "outputs": [
    {
     "data": {
      "text/html": [
       "<div>\n",
       "<style scoped>\n",
       "    .dataframe tbody tr th:only-of-type {\n",
       "        vertical-align: middle;\n",
       "    }\n",
       "\n",
       "    .dataframe tbody tr th {\n",
       "        vertical-align: top;\n",
       "    }\n",
       "\n",
       "    .dataframe thead th {\n",
       "        text-align: right;\n",
       "    }\n",
       "</style>\n",
       "<table border=\"1\" class=\"dataframe\">\n",
       "  <thead>\n",
       "    <tr style=\"text-align: right;\">\n",
       "      <th></th>\n",
       "      <th>ticket</th>\n",
       "      <th>cost</th>\n",
       "      <th>month</th>\n",
       "      <th>location_from</th>\n",
       "      <th>location_to</th>\n",
       "      <th>duration</th>\n",
       "      <th>distance</th>\n",
       "      <th>assistance</th>\n",
       "      <th>energy_used</th>\n",
       "      <th>energy_collected</th>\n",
       "    </tr>\n",
       "  </thead>\n",
       "  <tbody>\n",
       "    <tr>\n",
       "      <th>0</th>\n",
       "      <td>single</td>\n",
       "      <td>0.35</td>\n",
       "      <td>9</td>\n",
       "      <td>MICROTEKNIA</td>\n",
       "      <td>PUIJONLAAKSO</td>\n",
       "      <td>411.0</td>\n",
       "      <td>2150</td>\n",
       "      <td>1</td>\n",
       "      <td>19.0</td>\n",
       "      <td>2.7</td>\n",
       "    </tr>\n",
       "    <tr>\n",
       "      <th>1</th>\n",
       "      <td>single</td>\n",
       "      <td>1.20</td>\n",
       "      <td>5</td>\n",
       "      <td>SATAMA</td>\n",
       "      <td>KEILANKANTA</td>\n",
       "      <td>1411.0</td>\n",
       "      <td>7130</td>\n",
       "      <td>1</td>\n",
       "      <td>53.8</td>\n",
       "      <td>15.3</td>\n",
       "    </tr>\n",
       "    <tr>\n",
       "      <th>2</th>\n",
       "      <td>savonia</td>\n",
       "      <td>0.00</td>\n",
       "      <td>9</td>\n",
       "      <td>TASAVALLANKATU</td>\n",
       "      <td>NEULAMÄKI</td>\n",
       "      <td>1308.0</td>\n",
       "      <td>5420</td>\n",
       "      <td>1</td>\n",
       "      <td>43.0</td>\n",
       "      <td>9.9</td>\n",
       "    </tr>\n",
       "    <tr>\n",
       "      <th>3</th>\n",
       "      <td>savonia</td>\n",
       "      <td>0.00</td>\n",
       "      <td>10</td>\n",
       "      <td>TORI</td>\n",
       "      <td>KAUPPAKATU</td>\n",
       "      <td>1036.0</td>\n",
       "      <td>1180</td>\n",
       "      <td>1</td>\n",
       "      <td>6.5</td>\n",
       "      <td>2.1</td>\n",
       "    </tr>\n",
       "    <tr>\n",
       "      <th>4</th>\n",
       "      <td>single</td>\n",
       "      <td>0.30</td>\n",
       "      <td>9</td>\n",
       "      <td>TORI</td>\n",
       "      <td>TORI</td>\n",
       "      <td>319.0</td>\n",
       "      <td>1120</td>\n",
       "      <td>1</td>\n",
       "      <td>13.7</td>\n",
       "      <td>1.2</td>\n",
       "    </tr>\n",
       "    <tr>\n",
       "      <th>...</th>\n",
       "      <td>...</td>\n",
       "      <td>...</td>\n",
       "      <td>...</td>\n",
       "      <td>...</td>\n",
       "      <td>...</td>\n",
       "      <td>...</td>\n",
       "      <td>...</td>\n",
       "      <td>...</td>\n",
       "      <td>...</td>\n",
       "      <td>...</td>\n",
       "    </tr>\n",
       "    <tr>\n",
       "      <th>1769</th>\n",
       "      <td>savonia</td>\n",
       "      <td>0.00</td>\n",
       "      <td>10</td>\n",
       "      <td>KAUPPAKATU</td>\n",
       "      <td>TORI</td>\n",
       "      <td>836.0</td>\n",
       "      <td>960</td>\n",
       "      <td>1</td>\n",
       "      <td>8.0</td>\n",
       "      <td>2.7</td>\n",
       "    </tr>\n",
       "    <tr>\n",
       "      <th>1770</th>\n",
       "      <td>single</td>\n",
       "      <td>0.20</td>\n",
       "      <td>7</td>\n",
       "      <td>TORI</td>\n",
       "      <td>SATAMA</td>\n",
       "      <td>199.0</td>\n",
       "      <td>930</td>\n",
       "      <td>1</td>\n",
       "      <td>3.7</td>\n",
       "      <td>3.6</td>\n",
       "    </tr>\n",
       "    <tr>\n",
       "      <th>1771</th>\n",
       "      <td>season</td>\n",
       "      <td>0.00</td>\n",
       "      <td>7</td>\n",
       "      <td>TORI</td>\n",
       "      <td>TORI</td>\n",
       "      <td>61.0</td>\n",
       "      <td>0</td>\n",
       "      <td>1</td>\n",
       "      <td>0.0</td>\n",
       "      <td>0.0</td>\n",
       "    </tr>\n",
       "    <tr>\n",
       "      <th>1772</th>\n",
       "      <td>savonia</td>\n",
       "      <td>0.00</td>\n",
       "      <td>9</td>\n",
       "      <td>MICROTEKNIA</td>\n",
       "      <td>PUIJONLAAKSO</td>\n",
       "      <td>610.0</td>\n",
       "      <td>2460</td>\n",
       "      <td>1</td>\n",
       "      <td>36.5</td>\n",
       "      <td>6.9</td>\n",
       "    </tr>\n",
       "    <tr>\n",
       "      <th>1773</th>\n",
       "      <td>season</td>\n",
       "      <td>0.00</td>\n",
       "      <td>8</td>\n",
       "      <td>PUIJONLAAKSO</td>\n",
       "      <td>KAUPPAKATU</td>\n",
       "      <td>478.0</td>\n",
       "      <td>2250</td>\n",
       "      <td>1</td>\n",
       "      <td>8.1</td>\n",
       "      <td>13.8</td>\n",
       "    </tr>\n",
       "  </tbody>\n",
       "</table>\n",
       "<p>1774 rows × 10 columns</p>\n",
       "</div>"
      ],
      "text/plain": [
       "       ticket  cost  month   location_from   location_to  duration  distance  \\\n",
       "0      single  0.35      9     MICROTEKNIA  PUIJONLAAKSO     411.0      2150   \n",
       "1      single  1.20      5          SATAMA   KEILANKANTA    1411.0      7130   \n",
       "2     savonia  0.00      9  TASAVALLANKATU     NEULAMÄKI    1308.0      5420   \n",
       "3     savonia  0.00     10            TORI    KAUPPAKATU    1036.0      1180   \n",
       "4      single  0.30      9            TORI          TORI     319.0      1120   \n",
       "...       ...   ...    ...             ...           ...       ...       ...   \n",
       "1769  savonia  0.00     10      KAUPPAKATU          TORI     836.0       960   \n",
       "1770   single  0.20      7            TORI        SATAMA     199.0       930   \n",
       "1771   season  0.00      7            TORI          TORI      61.0         0   \n",
       "1772  savonia  0.00      9     MICROTEKNIA  PUIJONLAAKSO     610.0      2460   \n",
       "1773   season  0.00      8    PUIJONLAAKSO    KAUPPAKATU     478.0      2250   \n",
       "\n",
       "      assistance  energy_used  energy_collected  \n",
       "0              1         19.0               2.7  \n",
       "1              1         53.8              15.3  \n",
       "2              1         43.0               9.9  \n",
       "3              1          6.5               2.1  \n",
       "4              1         13.7               1.2  \n",
       "...          ...          ...               ...  \n",
       "1769           1          8.0               2.7  \n",
       "1770           1          3.7               3.6  \n",
       "1771           1          0.0               0.0  \n",
       "1772           1         36.5               6.9  \n",
       "1773           1          8.1              13.8  \n",
       "\n",
       "[1774 rows x 10 columns]"
      ]
     },
     "execution_count": 105,
     "metadata": {},
     "output_type": "execute_result"
    }
   ],
   "source": [
    "# loading data file\n",
    "\n",
    "bikes = P.read_csv('./project_data/bikes.data',\n",
    "                   # field separator character\n",
    "                   sep=\",\",\n",
    "                   # missing value characters\n",
    "                   na_values=[\"?\"],\n",
    "                   # no row names\n",
    "                   index_col=False,\n",
    "                   # first row as column names\n",
    "                   header=0,\n",
    "                   # quote character\n",
    "                   quotechar=\"'\")\n",
    "bikes"
   ]
  },
  {
   "cell_type": "markdown",
   "metadata": {},
   "source": [
    "<p>Data file is now loaded and looks clean at first glance. The variables match the documentation provided.</p>"
   ]
  },
  {
   "cell_type": "markdown",
   "metadata": {},
   "source": [
    "<h4>Checking the variables</h4>"
   ]
  },
  {
   "cell_type": "code",
   "execution_count": 106,
   "metadata": {},
   "outputs": [
    {
     "data": {
      "text/plain": [
       "ticket               object\n",
       "cost                float64\n",
       "month                 int64\n",
       "location_from        object\n",
       "location_to          object\n",
       "duration            float64\n",
       "distance              int64\n",
       "assistance            int64\n",
       "energy_used         float64\n",
       "energy_collected    float64\n",
       "dtype: object"
      ]
     },
     "execution_count": 106,
     "metadata": {},
     "output_type": "execute_result"
    }
   ],
   "source": [
    "# checking data types\n",
    "\n",
    "bikes.dtypes"
   ]
  },
  {
   "cell_type": "code",
   "execution_count": 107,
   "metadata": {},
   "outputs": [
    {
     "data": {
      "text/html": [
       "<div>\n",
       "<style scoped>\n",
       "    .dataframe tbody tr th:only-of-type {\n",
       "        vertical-align: middle;\n",
       "    }\n",
       "\n",
       "    .dataframe tbody tr th {\n",
       "        vertical-align: top;\n",
       "    }\n",
       "\n",
       "    .dataframe thead th {\n",
       "        text-align: right;\n",
       "    }\n",
       "</style>\n",
       "<table border=\"1\" class=\"dataframe\">\n",
       "  <thead>\n",
       "    <tr style=\"text-align: right;\">\n",
       "      <th></th>\n",
       "      <th>cost</th>\n",
       "      <th>month</th>\n",
       "      <th>duration</th>\n",
       "      <th>distance</th>\n",
       "      <th>assistance</th>\n",
       "      <th>energy_used</th>\n",
       "      <th>energy_collected</th>\n",
       "    </tr>\n",
       "  </thead>\n",
       "  <tbody>\n",
       "    <tr>\n",
       "      <th>count</th>\n",
       "      <td>1774.000000</td>\n",
       "      <td>1774.000000</td>\n",
       "      <td>1774.000000</td>\n",
       "      <td>1774.000000</td>\n",
       "      <td>1774.000000</td>\n",
       "      <td>1774.000000</td>\n",
       "      <td>1774.000000</td>\n",
       "    </tr>\n",
       "    <tr>\n",
       "      <th>mean</th>\n",
       "      <td>0.491234</td>\n",
       "      <td>7.233371</td>\n",
       "      <td>671.323563</td>\n",
       "      <td>2460.067644</td>\n",
       "      <td>0.916009</td>\n",
       "      <td>17.399493</td>\n",
       "      <td>5.639290</td>\n",
       "    </tr>\n",
       "    <tr>\n",
       "      <th>std</th>\n",
       "      <td>4.127344</td>\n",
       "      <td>1.720351</td>\n",
       "      <td>1141.708627</td>\n",
       "      <td>2352.529305</td>\n",
       "      <td>0.277452</td>\n",
       "      <td>17.194463</td>\n",
       "      <td>6.379593</td>\n",
       "    </tr>\n",
       "    <tr>\n",
       "      <th>min</th>\n",
       "      <td>0.000000</td>\n",
       "      <td>4.000000</td>\n",
       "      <td>2.000000</td>\n",
       "      <td>-3380.000000</td>\n",
       "      <td>0.000000</td>\n",
       "      <td>0.000000</td>\n",
       "      <td>0.000000</td>\n",
       "    </tr>\n",
       "    <tr>\n",
       "      <th>25%</th>\n",
       "      <td>0.000000</td>\n",
       "      <td>6.000000</td>\n",
       "      <td>245.250000</td>\n",
       "      <td>910.000000</td>\n",
       "      <td>1.000000</td>\n",
       "      <td>1.425000</td>\n",
       "      <td>0.600000</td>\n",
       "    </tr>\n",
       "    <tr>\n",
       "      <th>50%</th>\n",
       "      <td>0.050000</td>\n",
       "      <td>7.000000</td>\n",
       "      <td>546.500000</td>\n",
       "      <td>2030.000000</td>\n",
       "      <td>1.000000</td>\n",
       "      <td>14.350000</td>\n",
       "      <td>3.900000</td>\n",
       "    </tr>\n",
       "    <tr>\n",
       "      <th>75%</th>\n",
       "      <td>0.550000</td>\n",
       "      <td>9.000000</td>\n",
       "      <td>877.750000</td>\n",
       "      <td>3605.000000</td>\n",
       "      <td>1.000000</td>\n",
       "      <td>26.900000</td>\n",
       "      <td>8.325000</td>\n",
       "    </tr>\n",
       "    <tr>\n",
       "      <th>max</th>\n",
       "      <td>100.000000</td>\n",
       "      <td>10.000000</td>\n",
       "      <td>25614.000000</td>\n",
       "      <td>20770.000000</td>\n",
       "      <td>1.000000</td>\n",
       "      <td>144.900000</td>\n",
       "      <td>56.400000</td>\n",
       "    </tr>\n",
       "  </tbody>\n",
       "</table>\n",
       "</div>"
      ],
      "text/plain": [
       "              cost        month      duration      distance   assistance  \\\n",
       "count  1774.000000  1774.000000   1774.000000   1774.000000  1774.000000   \n",
       "mean      0.491234     7.233371    671.323563   2460.067644     0.916009   \n",
       "std       4.127344     1.720351   1141.708627   2352.529305     0.277452   \n",
       "min       0.000000     4.000000      2.000000  -3380.000000     0.000000   \n",
       "25%       0.000000     6.000000    245.250000    910.000000     1.000000   \n",
       "50%       0.050000     7.000000    546.500000   2030.000000     1.000000   \n",
       "75%       0.550000     9.000000    877.750000   3605.000000     1.000000   \n",
       "max     100.000000    10.000000  25614.000000  20770.000000     1.000000   \n",
       "\n",
       "       energy_used  energy_collected  \n",
       "count  1774.000000       1774.000000  \n",
       "mean     17.399493          5.639290  \n",
       "std      17.194463          6.379593  \n",
       "min       0.000000          0.000000  \n",
       "25%       1.425000          0.600000  \n",
       "50%      14.350000          3.900000  \n",
       "75%      26.900000          8.325000  \n",
       "max     144.900000         56.400000  "
      ]
     },
     "execution_count": 107,
     "metadata": {},
     "output_type": "execute_result"
    }
   ],
   "source": [
    "# overall description of dataframe\n",
    "\n",
    "bikes.describe()"
   ]
  },
  {
   "cell_type": "markdown",
   "metadata": {},
   "source": [
    "<p>From here we can see that at least column 'distance has some issues because of the negative min-value.</p>\n",
    "<p>Also, the maximum value of column cost is suspicious.</p>"
   ]
  },
  {
   "cell_type": "code",
   "execution_count": 108,
   "metadata": {},
   "outputs": [
    {
     "data": {
      "text/plain": [
       "ticket              0\n",
       "cost                0\n",
       "month               0\n",
       "location_from       0\n",
       "location_to         0\n",
       "duration            0\n",
       "distance            0\n",
       "assistance          0\n",
       "energy_used         0\n",
       "energy_collected    0\n",
       "dtype: int64"
      ]
     },
     "execution_count": 108,
     "metadata": {},
     "output_type": "execute_result"
    }
   ],
   "source": [
    "# find null values\n",
    "\n",
    "bikes.isnull().sum()"
   ]
  },
  {
   "cell_type": "markdown",
   "metadata": {},
   "source": [
    "<p>No null values</p>"
   ]
  },
  {
   "cell_type": "code",
   "execution_count": 109,
   "metadata": {},
   "outputs": [
    {
     "name": "stdout",
     "output_type": "stream",
     "text": [
      "['single' 'savonia' 'season']\n",
      "[ 4  5  6  7  8  9 10]\n",
      "['KAUPPAKATU' 'KEILANKANTA' 'KYS' 'MICROTEKNIA' 'NEULAMÄKI' 'PIRTTI'\n",
      " 'PUIJONLAAKSO' 'SATAMA' 'TASAVALLANKATU' 'TORI']\n",
      "['KAUPPAKATU' 'KEILANKANTA' 'KYS' 'MICROTEKNIA' 'NEULAMÄKI' 'PIRTTI'\n",
      " 'PUIJONLAAKSO' 'SATAMA' 'TASAVALLANKATU' 'TORI']\n",
      "[1 0]\n"
     ]
    }
   ],
   "source": [
    "# check odditites in categorical variables\n",
    "\n",
    "print(bikes['ticket'].unique())\n",
    "print(N.sort(bikes['month'].unique()))\n",
    "print(N.sort(bikes['location_from'].unique()))\n",
    "print(N.sort(bikes['location_to'].unique()))\n",
    "print(bikes['assistance'].unique())"
   ]
  },
  {
   "cell_type": "markdown",
   "metadata": {},
   "source": [
    "<p>Everything looks fine in these columns</p>"
   ]
  },
  {
   "cell_type": "code",
   "execution_count": 110,
   "metadata": {},
   "outputs": [
    {
     "data": {
      "text/plain": [
       "<Axes: ylabel='Frequency'>"
      ]
     },
     "execution_count": 110,
     "metadata": {},
     "output_type": "execute_result"
    },
    {
     "data": {
      "image/png": "[encoded data removed]",
      "text/plain": [
       "<Figure size 640x480 with 1 Axes>"
      ]
     },
     "metadata": {},
     "output_type": "display_data"
    }
   ],
   "source": [
    "# check for oddities in numeric variables\n",
    "\n",
    "# histogram of column 'cost'\n",
    "\n",
    "bikes.cost.plot.hist(bins=50)"
   ]
  },
  {
   "cell_type": "markdown",
   "metadata": {},
   "source": [
    "<p>Here we see that most instances are close to 0 but histogram range is until 100 and we remember that max-value of cost was 100 in the dataframe description. We'll look into this later.</p>"
   ]
  },
  {
   "cell_type": "code",
   "execution_count": 111,
   "metadata": {},
   "outputs": [
    {
     "data": {
      "text/plain": [
       "<Axes: title={'center': 'Duration v. distance'}, xlabel='Duration (s)', ylabel='Distance (m)'>"
      ]
     },
     "execution_count": 111,
     "metadata": {},
     "output_type": "execute_result"
    },
    {
     "data": {
      "image/png": "[encoded data removed]",
      "text/plain": [
       "<Figure size 800x800 with 1 Axes>"
      ]
     },
     "metadata": {},
     "output_type": "display_data"
    }
   ],
   "source": [
    "# lets create a scatter plot of columns 'duration' and 'distance'\n",
    "\n",
    "bikes.plot.scatter('duration', 'distance',\n",
    "                   title=\"Duration v. distance\",\n",
    "                   xlabel=\"Duration (s)\",\n",
    "                   ylabel=\"Distance (m)\",\n",
    "                   figsize=(8,8))"
   ]
  },
  {
   "cell_type": "markdown",
   "metadata": {},
   "source": [
    "<p>Here we can see that some values of 'distance' are negative which we already knew and have to fix. They seem to follow the trend of duration so we can assume that they are fine if we turn them to positive values. We also see two clear outliers.</p>"
   ]
  },
  {
   "cell_type": "code",
   "execution_count": 112,
   "metadata": {},
   "outputs": [
    {
     "data": {
      "text/plain": [
       "<Axes: title={'center': 'Duration v. cost'}, xlabel='Duration (s)', ylabel='Cost (€)'>"
      ]
     },
     "execution_count": 112,
     "metadata": {},
     "output_type": "execute_result"
    },
    {
     "data": {
      "image/png": "[encoded data removed]",
      "text/plain": [
       "<Figure size 800x800 with 1 Axes>"
      ]
     },
     "metadata": {},
     "output_type": "display_data"
    }
   ],
   "source": [
    "# lets create a scatter plot of columns 'duration' and 'cost'\n",
    "\n",
    "bikes.plot.scatter('duration', 'cost',\n",
    "                   title=\"Duration v. cost\",\n",
    "                   xlabel=\"Duration (s)\",\n",
    "                   ylabel=\"Cost (€)\",\n",
    "                   figsize=(8,8))"
   ]
  },
  {
   "cell_type": "markdown",
   "metadata": {},
   "source": [
    "<p>We see the same two outliers in both cost and duration so we can confidently mark them as technical faults and can clean them up.</p>"
   ]
  },
  {
   "cell_type": "markdown",
   "metadata": {},
   "source": [
    "<p>Cost being 0 is okay, because ticket types 'season' and 'savonia' don't register payment.</p>"
   ]
  },
  {
   "cell_type": "markdown",
   "metadata": {},
   "source": [
    "<p>There was also a mention in the documentation that there are observations where customers only tried the renting system and didn't ride the bike. So we can clean up all observations where distance is 0.</p>"
   ]
  },
  {
   "cell_type": "markdown",
   "metadata": {},
   "source": [
    "<h4>Cleaning dataframe</h4>"
   ]
  },
  {
   "cell_type": "code",
   "execution_count": 113,
   "metadata": {},
   "outputs": [],
   "source": [
    "# removing two observations with technical problems\n",
    "\n",
    "bikes = bikes[bikes['cost'] != 100]"
   ]
  },
  {
   "cell_type": "code",
   "execution_count": 114,
   "metadata": {},
   "outputs": [],
   "source": [
    "# fixing the negative values in the 'distance' column\n",
    "\n",
    "bikes.loc[:, 'distance'] = bikes['distance'].abs()"
   ]
  },
  {
   "cell_type": "code",
   "execution_count": 115,
   "metadata": {},
   "outputs": [],
   "source": [
    "# remove all rows where distance is 0\n",
    "\n",
    "bikes = bikes[bikes['distance'] != 0]"
   ]
  },
  {
   "cell_type": "code",
   "execution_count": 116,
   "metadata": {},
   "outputs": [
    {
     "data": {
      "text/html": [
       "<div>\n",
       "<style scoped>\n",
       "    .dataframe tbody tr th:only-of-type {\n",
       "        vertical-align: middle;\n",
       "    }\n",
       "\n",
       "    .dataframe tbody tr th {\n",
       "        vertical-align: top;\n",
       "    }\n",
       "\n",
       "    .dataframe thead th {\n",
       "        text-align: right;\n",
       "    }\n",
       "</style>\n",
       "<table border=\"1\" class=\"dataframe\">\n",
       "  <thead>\n",
       "    <tr style=\"text-align: right;\">\n",
       "      <th></th>\n",
       "      <th>ticket</th>\n",
       "      <th>cost</th>\n",
       "      <th>month</th>\n",
       "      <th>location_from</th>\n",
       "      <th>location_to</th>\n",
       "      <th>duration</th>\n",
       "      <th>distance</th>\n",
       "      <th>assistance</th>\n",
       "      <th>energy_used</th>\n",
       "      <th>energy_collected</th>\n",
       "    </tr>\n",
       "  </thead>\n",
       "  <tbody>\n",
       "    <tr>\n",
       "      <th>0</th>\n",
       "      <td>single</td>\n",
       "      <td>0.35</td>\n",
       "      <td>9</td>\n",
       "      <td>MICROTEKNIA</td>\n",
       "      <td>PUIJONLAAKSO</td>\n",
       "      <td>411.0</td>\n",
       "      <td>2150</td>\n",
       "      <td>1</td>\n",
       "      <td>19.0</td>\n",
       "      <td>2.7</td>\n",
       "    </tr>\n",
       "    <tr>\n",
       "      <th>1</th>\n",
       "      <td>single</td>\n",
       "      <td>1.20</td>\n",
       "      <td>5</td>\n",
       "      <td>SATAMA</td>\n",
       "      <td>KEILANKANTA</td>\n",
       "      <td>1411.0</td>\n",
       "      <td>7130</td>\n",
       "      <td>1</td>\n",
       "      <td>53.8</td>\n",
       "      <td>15.3</td>\n",
       "    </tr>\n",
       "    <tr>\n",
       "      <th>2</th>\n",
       "      <td>savonia</td>\n",
       "      <td>0.00</td>\n",
       "      <td>9</td>\n",
       "      <td>TASAVALLANKATU</td>\n",
       "      <td>NEULAMÄKI</td>\n",
       "      <td>1308.0</td>\n",
       "      <td>5420</td>\n",
       "      <td>1</td>\n",
       "      <td>43.0</td>\n",
       "      <td>9.9</td>\n",
       "    </tr>\n",
       "    <tr>\n",
       "      <th>3</th>\n",
       "      <td>savonia</td>\n",
       "      <td>0.00</td>\n",
       "      <td>10</td>\n",
       "      <td>TORI</td>\n",
       "      <td>KAUPPAKATU</td>\n",
       "      <td>1036.0</td>\n",
       "      <td>1180</td>\n",
       "      <td>1</td>\n",
       "      <td>6.5</td>\n",
       "      <td>2.1</td>\n",
       "    </tr>\n",
       "    <tr>\n",
       "      <th>4</th>\n",
       "      <td>single</td>\n",
       "      <td>0.30</td>\n",
       "      <td>9</td>\n",
       "      <td>TORI</td>\n",
       "      <td>TORI</td>\n",
       "      <td>319.0</td>\n",
       "      <td>1120</td>\n",
       "      <td>1</td>\n",
       "      <td>13.7</td>\n",
       "      <td>1.2</td>\n",
       "    </tr>\n",
       "    <tr>\n",
       "      <th>...</th>\n",
       "      <td>...</td>\n",
       "      <td>...</td>\n",
       "      <td>...</td>\n",
       "      <td>...</td>\n",
       "      <td>...</td>\n",
       "      <td>...</td>\n",
       "      <td>...</td>\n",
       "      <td>...</td>\n",
       "      <td>...</td>\n",
       "      <td>...</td>\n",
       "    </tr>\n",
       "    <tr>\n",
       "      <th>1509</th>\n",
       "      <td>single</td>\n",
       "      <td>1.00</td>\n",
       "      <td>7</td>\n",
       "      <td>KEILANKANTA</td>\n",
       "      <td>KAUPPAKATU</td>\n",
       "      <td>1167.0</td>\n",
       "      <td>6070</td>\n",
       "      <td>1</td>\n",
       "      <td>34.3</td>\n",
       "      <td>3.0</td>\n",
       "    </tr>\n",
       "    <tr>\n",
       "      <th>1510</th>\n",
       "      <td>savonia</td>\n",
       "      <td>0.00</td>\n",
       "      <td>10</td>\n",
       "      <td>KAUPPAKATU</td>\n",
       "      <td>TORI</td>\n",
       "      <td>836.0</td>\n",
       "      <td>960</td>\n",
       "      <td>1</td>\n",
       "      <td>8.0</td>\n",
       "      <td>2.7</td>\n",
       "    </tr>\n",
       "    <tr>\n",
       "      <th>1511</th>\n",
       "      <td>single</td>\n",
       "      <td>0.20</td>\n",
       "      <td>7</td>\n",
       "      <td>TORI</td>\n",
       "      <td>SATAMA</td>\n",
       "      <td>199.0</td>\n",
       "      <td>930</td>\n",
       "      <td>1</td>\n",
       "      <td>3.7</td>\n",
       "      <td>3.6</td>\n",
       "    </tr>\n",
       "    <tr>\n",
       "      <th>1512</th>\n",
       "      <td>savonia</td>\n",
       "      <td>0.00</td>\n",
       "      <td>9</td>\n",
       "      <td>MICROTEKNIA</td>\n",
       "      <td>PUIJONLAAKSO</td>\n",
       "      <td>610.0</td>\n",
       "      <td>2460</td>\n",
       "      <td>1</td>\n",
       "      <td>36.5</td>\n",
       "      <td>6.9</td>\n",
       "    </tr>\n",
       "    <tr>\n",
       "      <th>1513</th>\n",
       "      <td>season</td>\n",
       "      <td>0.00</td>\n",
       "      <td>8</td>\n",
       "      <td>PUIJONLAAKSO</td>\n",
       "      <td>KAUPPAKATU</td>\n",
       "      <td>478.0</td>\n",
       "      <td>2250</td>\n",
       "      <td>1</td>\n",
       "      <td>8.1</td>\n",
       "      <td>13.8</td>\n",
       "    </tr>\n",
       "  </tbody>\n",
       "</table>\n",
       "<p>1514 rows × 10 columns</p>\n",
       "</div>"
      ],
      "text/plain": [
       "       ticket  cost  month   location_from   location_to  duration  distance  \\\n",
       "0      single  0.35      9     MICROTEKNIA  PUIJONLAAKSO     411.0      2150   \n",
       "1      single  1.20      5          SATAMA   KEILANKANTA    1411.0      7130   \n",
       "2     savonia  0.00      9  TASAVALLANKATU     NEULAMÄKI    1308.0      5420   \n",
       "3     savonia  0.00     10            TORI    KAUPPAKATU    1036.0      1180   \n",
       "4      single  0.30      9            TORI          TORI     319.0      1120   \n",
       "...       ...   ...    ...             ...           ...       ...       ...   \n",
       "1509   single  1.00      7     KEILANKANTA    KAUPPAKATU    1167.0      6070   \n",
       "1510  savonia  0.00     10      KAUPPAKATU          TORI     836.0       960   \n",
       "1511   single  0.20      7            TORI        SATAMA     199.0       930   \n",
       "1512  savonia  0.00      9     MICROTEKNIA  PUIJONLAAKSO     610.0      2460   \n",
       "1513   season  0.00      8    PUIJONLAAKSO    KAUPPAKATU     478.0      2250   \n",
       "\n",
       "      assistance  energy_used  energy_collected  \n",
       "0              1         19.0               2.7  \n",
       "1              1         53.8              15.3  \n",
       "2              1         43.0               9.9  \n",
       "3              1          6.5               2.1  \n",
       "4              1         13.7               1.2  \n",
       "...          ...          ...               ...  \n",
       "1509           1         34.3               3.0  \n",
       "1510           1          8.0               2.7  \n",
       "1511           1          3.7               3.6  \n",
       "1512           1         36.5               6.9  \n",
       "1513           1          8.1              13.8  \n",
       "\n",
       "[1514 rows x 10 columns]"
      ]
     },
     "execution_count": 116,
     "metadata": {},
     "output_type": "execute_result"
    }
   ],
   "source": [
    "# resetting the indexes of the dataframe\n",
    "\n",
    "bikes = bikes.reset_index(drop=True)\n",
    "bikes"
   ]
  },
  {
   "cell_type": "markdown",
   "metadata": {},
   "source": [
    "<p>Dataframe is now cleaned up and ready for exploration. A little over 250 instances were removed from the dataframe.</p>"
   ]
  },
  {
   "cell_type": "markdown",
   "metadata": {},
   "source": [
    "<h2>Data exploration</h2>"
   ]
  }
 ],
 "metadata": {
  "kernelspec": {
   "display_name": "Python 3",
   "language": "python",
   "name": "python3"
  },
  "language_info": {
   "codemirror_mode": {
    "name": "ipython",
    "version": 3
   },
   "file_extension": ".py",
   "mimetype": "text/x-python",
   "name": "python",
   "nbconvert_exporter": "python",
   "pygments_lexer": "ipython3",
   "version": "3.10.2"
  }
 },
 "nbformat": 4,
 "nbformat_minor": 2
}
